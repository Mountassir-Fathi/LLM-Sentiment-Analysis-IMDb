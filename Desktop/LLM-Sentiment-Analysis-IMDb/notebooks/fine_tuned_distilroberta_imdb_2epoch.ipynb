{
  "metadata": {
    "kernelspec": {
      "language": "python",
      "display_name": "Python 3",
      "name": "python3"
    },
    "language_info": {
      "name": "python",
      "version": "3.10.14",
      "mimetype": "text/x-python",
      "codemirror_mode": {
        "name": "ipython",
        "version": 3
      },
      "pygments_lexer": "ipython3",
      "nbconvert_exporter": "python",
      "file_extension": ".py"
    },
    "kaggle": {
      "accelerator": "nvidiaTeslaT4",
      "dataSources": [
        {
          "sourceId": 9605271,
          "sourceType": "datasetVersion",
          "datasetId": 5860376
        },
        {
          "sourceId": 9616671,
          "sourceType": "datasetVersion",
          "datasetId": 5868838
        }
      ],
      "dockerImageVersionId": 30787,
      "isInternetEnabled": true,
      "language": "python",
      "sourceType": "notebook",
      "isGpuEnabled": true
    },
    "colab": {
      "provenance": []
    }
  },
  "nbformat_minor": 0,
  "nbformat": 4,
  "cells": [
    {
      "cell_type": "code",
      "source": [
        "import warnings\n",
        "warnings.filterwarnings('ignore')"
      ],
      "metadata": {
        "_uuid": "8f2839f25d086af736a60e9eeb907d3b93b6e0e5",
        "_cell_guid": "b1076dfc-b9ad-4769-8c92-a6c4dae69d19",
        "execution": {
          "iopub.status.busy": "2024-10-13T21:26:49.251880Z",
          "iopub.execute_input": "2024-10-13T21:26:49.252769Z",
          "iopub.status.idle": "2024-10-13T21:26:49.263799Z",
          "shell.execute_reply.started": "2024-10-13T21:26:49.252721Z",
          "shell.execute_reply": "2024-10-13T21:26:49.262724Z"
        },
        "trusted": true,
        "id": "qTn4FGSegJpN"
      },
      "execution_count": null,
      "outputs": []
    },
    {
      "cell_type": "code",
      "source": [
        "pip install pandas numpy seaborn matplotlib scikit-learn torch transformers datasets evaluate"
      ],
      "metadata": {
        "execution": {
          "iopub.status.busy": "2024-10-13T21:26:51.306476Z",
          "iopub.execute_input": "2024-10-13T21:26:51.306839Z",
          "iopub.status.idle": "2024-10-13T21:27:04.456223Z",
          "shell.execute_reply.started": "2024-10-13T21:26:51.306799Z",
          "shell.execute_reply": "2024-10-13T21:27:04.455138Z"
        },
        "trusted": true,
        "id": "afo5spb2gJpQ",
        "outputId": "4dcfefd4-aeeb-4cfa-bbf7-9eeaea6197d4"
      },
      "execution_count": null,
      "outputs": [
        {
          "name": "stdout",
          "text": "Requirement already satisfied: pandas in /opt/conda/lib/python3.10/site-packages (2.2.2)\nRequirement already satisfied: numpy in /opt/conda/lib/python3.10/site-packages (1.26.4)\nRequirement already satisfied: seaborn in /opt/conda/lib/python3.10/site-packages (0.12.2)\nRequirement already satisfied: matplotlib in /opt/conda/lib/python3.10/site-packages (3.7.5)\nRequirement already satisfied: scikit-learn in /opt/conda/lib/python3.10/site-packages (1.2.2)\nRequirement already satisfied: torch in /opt/conda/lib/python3.10/site-packages (2.4.0)\nRequirement already satisfied: transformers in /opt/conda/lib/python3.10/site-packages (4.45.1)\nRequirement already satisfied: datasets in /opt/conda/lib/python3.10/site-packages (3.0.1)\nCollecting evaluate\n  Downloading evaluate-0.4.3-py3-none-any.whl.metadata (9.2 kB)\nRequirement already satisfied: python-dateutil>=2.8.2 in /opt/conda/lib/python3.10/site-packages (from pandas) (2.9.0.post0)\nRequirement already satisfied: pytz>=2020.1 in /opt/conda/lib/python3.10/site-packages (from pandas) (2024.1)\nRequirement already satisfied: tzdata>=2022.7 in /opt/conda/lib/python3.10/site-packages (from pandas) (2024.1)\nRequirement already satisfied: contourpy>=1.0.1 in /opt/conda/lib/python3.10/site-packages (from matplotlib) (1.2.1)\nRequirement already satisfied: cycler>=0.10 in /opt/conda/lib/python3.10/site-packages (from matplotlib) (0.12.1)\nRequirement already satisfied: fonttools>=4.22.0 in /opt/conda/lib/python3.10/site-packages (from matplotlib) (4.53.0)\nRequirement already satisfied: kiwisolver>=1.0.1 in /opt/conda/lib/python3.10/site-packages (from matplotlib) (1.4.5)\nRequirement already satisfied: packaging>=20.0 in /opt/conda/lib/python3.10/site-packages (from matplotlib) (21.3)\nRequirement already satisfied: pillow>=6.2.0 in /opt/conda/lib/python3.10/site-packages (from matplotlib) (10.3.0)\nRequirement already satisfied: pyparsing>=2.3.1 in /opt/conda/lib/python3.10/site-packages (from matplotlib) (3.1.2)\nRequirement already satisfied: scipy>=1.3.2 in /opt/conda/lib/python3.10/site-packages (from scikit-learn) (1.14.1)\nRequirement already satisfied: joblib>=1.1.1 in /opt/conda/lib/python3.10/site-packages (from scikit-learn) (1.4.2)\nRequirement already satisfied: threadpoolctl>=2.0.0 in /opt/conda/lib/python3.10/site-packages (from scikit-learn) (3.5.0)\nRequirement already satisfied: filelock in /opt/conda/lib/python3.10/site-packages (from torch) (3.15.1)\nRequirement already satisfied: typing-extensions>=4.8.0 in /opt/conda/lib/python3.10/site-packages (from torch) (4.12.2)\nRequirement already satisfied: sympy in /opt/conda/lib/python3.10/site-packages (from torch) (1.13.3)\nRequirement already satisfied: networkx in /opt/conda/lib/python3.10/site-packages (from torch) (3.3)\nRequirement already satisfied: jinja2 in /opt/conda/lib/python3.10/site-packages (from torch) (3.1.4)\nRequirement already satisfied: fsspec in /opt/conda/lib/python3.10/site-packages (from torch) (2024.6.1)\nRequirement already satisfied: huggingface-hub<1.0,>=0.23.2 in /opt/conda/lib/python3.10/site-packages (from transformers) (0.25.1)\nRequirement already satisfied: pyyaml>=5.1 in /opt/conda/lib/python3.10/site-packages (from transformers) (6.0.2)\nRequirement already satisfied: regex!=2019.12.17 in /opt/conda/lib/python3.10/site-packages (from transformers) (2024.5.15)\nRequirement already satisfied: requests in /opt/conda/lib/python3.10/site-packages (from transformers) (2.32.3)\nRequirement already satisfied: safetensors>=0.4.1 in /opt/conda/lib/python3.10/site-packages (from transformers) (0.4.5)\nRequirement already satisfied: tokenizers<0.21,>=0.20 in /opt/conda/lib/python3.10/site-packages (from transformers) (0.20.0)\nRequirement already satisfied: tqdm>=4.27 in /opt/conda/lib/python3.10/site-packages (from transformers) (4.66.4)\nRequirement already satisfied: pyarrow>=15.0.0 in /opt/conda/lib/python3.10/site-packages (from datasets) (16.1.0)\nRequirement already satisfied: dill<0.3.9,>=0.3.0 in /opt/conda/lib/python3.10/site-packages (from datasets) (0.3.8)\nRequirement already satisfied: xxhash in /opt/conda/lib/python3.10/site-packages (from datasets) (3.4.1)\nRequirement already satisfied: multiprocess in /opt/conda/lib/python3.10/site-packages (from datasets) (0.70.16)\nRequirement already satisfied: aiohttp in /opt/conda/lib/python3.10/site-packages (from datasets) (3.9.5)\nRequirement already satisfied: aiosignal>=1.1.2 in /opt/conda/lib/python3.10/site-packages (from aiohttp->datasets) (1.3.1)\nRequirement already satisfied: attrs>=17.3.0 in /opt/conda/lib/python3.10/site-packages (from aiohttp->datasets) (23.2.0)\nRequirement already satisfied: frozenlist>=1.1.1 in /opt/conda/lib/python3.10/site-packages (from aiohttp->datasets) (1.4.1)\nRequirement already satisfied: multidict<7.0,>=4.5 in /opt/conda/lib/python3.10/site-packages (from aiohttp->datasets) (6.0.5)\nRequirement already satisfied: yarl<2.0,>=1.0 in /opt/conda/lib/python3.10/site-packages (from aiohttp->datasets) (1.9.4)\nRequirement already satisfied: async-timeout<5.0,>=4.0 in /opt/conda/lib/python3.10/site-packages (from aiohttp->datasets) (4.0.3)\nRequirement already satisfied: six>=1.5 in /opt/conda/lib/python3.10/site-packages (from python-dateutil>=2.8.2->pandas) (1.16.0)\nRequirement already satisfied: charset-normalizer<4,>=2 in /opt/conda/lib/python3.10/site-packages (from requests->transformers) (3.3.2)\nRequirement already satisfied: idna<4,>=2.5 in /opt/conda/lib/python3.10/site-packages (from requests->transformers) (3.7)\nRequirement already satisfied: urllib3<3,>=1.21.1 in /opt/conda/lib/python3.10/site-packages (from requests->transformers) (1.26.18)\nRequirement already satisfied: certifi>=2017.4.17 in /opt/conda/lib/python3.10/site-packages (from requests->transformers) (2024.8.30)\nRequirement already satisfied: MarkupSafe>=2.0 in /opt/conda/lib/python3.10/site-packages (from jinja2->torch) (2.1.5)\nRequirement already satisfied: mpmath<1.4,>=1.1.0 in /opt/conda/lib/python3.10/site-packages (from sympy->torch) (1.3.0)\nDownloading evaluate-0.4.3-py3-none-any.whl (84 kB)\n\u001b[2K   \u001b[90m━━━━━━━━━━━━━━━━━━━━━━━━━━━━━━━━━━━━━━━━\u001b[0m \u001b[32m84.0/84.0 kB\u001b[0m \u001b[31m2.7 MB/s\u001b[0m eta \u001b[36m0:00:00\u001b[0m\n\u001b[?25hInstalling collected packages: evaluate\nSuccessfully installed evaluate-0.4.3\nNote: you may need to restart the kernel to use updated packages.\n",
          "output_type": "stream"
        }
      ]
    },
    {
      "cell_type": "code",
      "source": [
        "import pandas as pd\n",
        "import numpy as np\n",
        "import seaborn as sns\n",
        "import matplotlib.pyplot as plt\n",
        "\n",
        "from sklearn.model_selection import train_test_split\n",
        "from sklearn.preprocessing import LabelEncoder\n",
        "\n",
        "import torch\n",
        "from transformers import (AutoTokenizer,\n",
        "                          AutoModelForSequenceClassification,\n",
        "                          Trainer,\n",
        "                          TrainingArguments)\n",
        "from datasets import Dataset, DatasetDict\n",
        "from evaluate import load\n",
        "from transformers import pipeline"
      ],
      "metadata": {
        "execution": {
          "iopub.status.busy": "2024-10-13T21:27:07.400329Z",
          "iopub.execute_input": "2024-10-13T21:27:07.401019Z",
          "iopub.status.idle": "2024-10-13T21:27:28.301320Z",
          "shell.execute_reply.started": "2024-10-13T21:27:07.400977Z",
          "shell.execute_reply": "2024-10-13T21:27:28.300550Z"
        },
        "trusted": true,
        "id": "0XOTFLu-gJpS"
      },
      "execution_count": null,
      "outputs": []
    },
    {
      "cell_type": "code",
      "source": [
        "df = pd.read_csv(\"/kaggle/input/imbd-reviws-preproced/imdb_reviews_preproced.csv\")\n",
        "df.sample(5)"
      ],
      "metadata": {
        "execution": {
          "iopub.status.busy": "2024-10-13T21:27:29.456104Z",
          "iopub.execute_input": "2024-10-13T21:27:29.456840Z",
          "iopub.status.idle": "2024-10-13T21:27:30.162291Z",
          "shell.execute_reply.started": "2024-10-13T21:27:29.456798Z",
          "shell.execute_reply": "2024-10-13T21:27:30.161399Z"
        },
        "trusted": true,
        "id": "sJPGQl42gJpT",
        "outputId": "41cb67c8-b19e-4283-b20c-d017eb79c7bc"
      },
      "execution_count": null,
      "outputs": [
        {
          "execution_count": 4,
          "output_type": "execute_result",
          "data": {
            "text/plain": "                                                  review  sentiment\n46794  ok let get clear really sci fi reason love sta...          1\n2844   never seen show much story mystery suspense ha...          1\n3661   okay know like movie pat morita loveable inter...          1\n22346  hard film rate truly deserves 3 perhaps even t...          0\n13521  since cartoon made old days felix talks using ...          1",
            "text/html": "<div>\n<style scoped>\n    .dataframe tbody tr th:only-of-type {\n        vertical-align: middle;\n    }\n\n    .dataframe tbody tr th {\n        vertical-align: top;\n    }\n\n    .dataframe thead th {\n        text-align: right;\n    }\n</style>\n<table border=\"1\" class=\"dataframe\">\n  <thead>\n    <tr style=\"text-align: right;\">\n      <th></th>\n      <th>review</th>\n      <th>sentiment</th>\n    </tr>\n  </thead>\n  <tbody>\n    <tr>\n      <th>46794</th>\n      <td>ok let get clear really sci fi reason love sta...</td>\n      <td>1</td>\n    </tr>\n    <tr>\n      <th>2844</th>\n      <td>never seen show much story mystery suspense ha...</td>\n      <td>1</td>\n    </tr>\n    <tr>\n      <th>3661</th>\n      <td>okay know like movie pat morita loveable inter...</td>\n      <td>1</td>\n    </tr>\n    <tr>\n      <th>22346</th>\n      <td>hard film rate truly deserves 3 perhaps even t...</td>\n      <td>0</td>\n    </tr>\n    <tr>\n      <th>13521</th>\n      <td>since cartoon made old days felix talks using ...</td>\n      <td>1</td>\n    </tr>\n  </tbody>\n</table>\n</div>"
          },
          "metadata": {}
        }
      ]
    },
    {
      "cell_type": "code",
      "source": [
        "reviews = df['review'].tolist()\n",
        "labels = df['sentiment'].tolist()"
      ],
      "metadata": {
        "execution": {
          "iopub.status.busy": "2024-10-13T21:27:33.439602Z",
          "iopub.execute_input": "2024-10-13T21:27:33.440259Z",
          "iopub.status.idle": "2024-10-13T21:27:33.450477Z",
          "shell.execute_reply.started": "2024-10-13T21:27:33.440219Z",
          "shell.execute_reply": "2024-10-13T21:27:33.449492Z"
        },
        "trusted": true,
        "id": "9NcgmNqPgJpV"
      },
      "execution_count": null,
      "outputs": []
    },
    {
      "cell_type": "code",
      "source": [
        "train_reviews, val_reviews, train_labels, val_labels = train_test_split(reviews, labels, test_size=0.2, random_state=42)"
      ],
      "metadata": {
        "execution": {
          "iopub.status.busy": "2024-10-13T21:27:36.033603Z",
          "iopub.execute_input": "2024-10-13T21:27:36.034001Z",
          "iopub.status.idle": "2024-10-13T21:27:36.065701Z",
          "shell.execute_reply.started": "2024-10-13T21:27:36.033966Z",
          "shell.execute_reply": "2024-10-13T21:27:36.064836Z"
        },
        "trusted": true,
        "id": "s-LKrxn3gJpV"
      },
      "execution_count": null,
      "outputs": []
    },
    {
      "cell_type": "code",
      "source": [
        "tokenizer = AutoTokenizer.from_pretrained(\"distilroberta-base\")"
      ],
      "metadata": {
        "execution": {
          "iopub.status.busy": "2024-10-13T21:27:39.962759Z",
          "iopub.execute_input": "2024-10-13T21:27:39.963148Z",
          "iopub.status.idle": "2024-10-13T21:27:41.998541Z",
          "shell.execute_reply.started": "2024-10-13T21:27:39.963113Z",
          "shell.execute_reply": "2024-10-13T21:27:41.997554Z"
        },
        "trusted": true,
        "colab": {
          "referenced_widgets": [
            "067ec9a1e6e24653931326d6e9ed2e62",
            "9454e2d5d0e8415f93c70d145d274d61",
            "021b64ca1886467d9985154e417e7358",
            "524d9b94f8a3439a958c36d5e5aec763",
            "c94918dbf724441e80f23b4ccceb0694"
          ]
        },
        "id": "anjhY2jegJpW",
        "outputId": "ac0fe550-c267-4335-f473-b7e25e87fece"
      },
      "execution_count": null,
      "outputs": [
        {
          "output_type": "display_data",
          "data": {
            "text/plain": "tokenizer_config.json:   0%|          | 0.00/25.0 [00:00<?, ?B/s]",
            "application/vnd.jupyter.widget-view+json": {
              "version_major": 2,
              "version_minor": 0,
              "model_id": "067ec9a1e6e24653931326d6e9ed2e62"
            }
          },
          "metadata": {}
        },
        {
          "output_type": "display_data",
          "data": {
            "text/plain": "config.json:   0%|          | 0.00/480 [00:00<?, ?B/s]",
            "application/vnd.jupyter.widget-view+json": {
              "version_major": 2,
              "version_minor": 0,
              "model_id": "9454e2d5d0e8415f93c70d145d274d61"
            }
          },
          "metadata": {}
        },
        {
          "output_type": "display_data",
          "data": {
            "text/plain": "vocab.json:   0%|          | 0.00/899k [00:00<?, ?B/s]",
            "application/vnd.jupyter.widget-view+json": {
              "version_major": 2,
              "version_minor": 0,
              "model_id": "021b64ca1886467d9985154e417e7358"
            }
          },
          "metadata": {}
        },
        {
          "output_type": "display_data",
          "data": {
            "text/plain": "merges.txt:   0%|          | 0.00/456k [00:00<?, ?B/s]",
            "application/vnd.jupyter.widget-view+json": {
              "version_major": 2,
              "version_minor": 0,
              "model_id": "524d9b94f8a3439a958c36d5e5aec763"
            }
          },
          "metadata": {}
        },
        {
          "output_type": "display_data",
          "data": {
            "text/plain": "tokenizer.json:   0%|          | 0.00/1.36M [00:00<?, ?B/s]",
            "application/vnd.jupyter.widget-view+json": {
              "version_major": 2,
              "version_minor": 0,
              "model_id": "c94918dbf724441e80f23b4ccceb0694"
            }
          },
          "metadata": {}
        }
      ]
    },
    {
      "cell_type": "code",
      "source": [
        "# Function for tokenizing the reviews\n",
        "\n",
        "def tokenize_function(texts):\n",
        "    return tokenizer(texts, padding=\"max_length\", truncation=True)"
      ],
      "metadata": {
        "execution": {
          "iopub.status.busy": "2024-10-13T21:27:43.420010Z",
          "iopub.execute_input": "2024-10-13T21:27:43.420394Z",
          "iopub.status.idle": "2024-10-13T21:27:43.425109Z",
          "shell.execute_reply.started": "2024-10-13T21:27:43.420359Z",
          "shell.execute_reply": "2024-10-13T21:27:43.424228Z"
        },
        "trusted": true,
        "id": "BJ_KGX4zgJpX"
      },
      "execution_count": null,
      "outputs": []
    },
    {
      "cell_type": "code",
      "source": [
        "train_encodings = tokenize_function(train_reviews)\n",
        "val_encodings = tokenize_function(texts=val_reviews)"
      ],
      "metadata": {
        "execution": {
          "iopub.status.busy": "2024-10-13T21:27:46.142140Z",
          "iopub.execute_input": "2024-10-13T21:27:46.142876Z",
          "iopub.status.idle": "2024-10-13T21:28:00.252296Z",
          "shell.execute_reply.started": "2024-10-13T21:27:46.142837Z",
          "shell.execute_reply": "2024-10-13T21:28:00.251508Z"
        },
        "trusted": true,
        "id": "WXleTbnjgJpY"
      },
      "execution_count": null,
      "outputs": []
    },
    {
      "cell_type": "code",
      "source": [
        "# Convert to Hugging Face Dataset format\n",
        "\n",
        "train_dataset = Dataset.from_dict({\n",
        "                                    'input_ids': train_encodings['input_ids'],\n",
        "                                    'attention_mask': train_encodings['attention_mask'],\n",
        "                                    'labels': train_labels\n",
        "                                    })\n",
        "\n",
        "val_dataset = Dataset.from_dict({\n",
        "                                    'input_ids': val_encodings['input_ids'],\n",
        "                                    'attention_mask': val_encodings['attention_mask'],\n",
        "                                    'labels': val_labels\n",
        "                                    })\n",
        "\n",
        "dataset = DatasetDict({\n",
        "                        'train': train_dataset,\n",
        "                        'validation': val_dataset\n",
        "                        })"
      ],
      "metadata": {
        "execution": {
          "iopub.status.busy": "2024-10-13T21:28:02.502726Z",
          "iopub.execute_input": "2024-10-13T21:28:02.503413Z",
          "iopub.status.idle": "2024-10-13T21:28:12.565009Z",
          "shell.execute_reply.started": "2024-10-13T21:28:02.503376Z",
          "shell.execute_reply": "2024-10-13T21:28:12.564004Z"
        },
        "trusted": true,
        "id": "9WWIRWlfgJpZ"
      },
      "execution_count": null,
      "outputs": []
    },
    {
      "cell_type": "code",
      "source": [],
      "metadata": {
        "execution": {
          "iopub.status.busy": "2024-10-13T21:33:59.837550Z",
          "iopub.execute_input": "2024-10-13T21:33:59.838416Z",
          "iopub.status.idle": "2024-10-13T21:33:59.844280Z",
          "shell.execute_reply.started": "2024-10-13T21:33:59.838376Z",
          "shell.execute_reply": "2024-10-13T21:33:59.843421Z"
        },
        "trusted": true,
        "id": "dGklmFeEgJpZ",
        "outputId": "0158ad8d-377f-4b8d-fdd0-ad06e556096e"
      },
      "execution_count": null,
      "outputs": [
        {
          "execution_count": 26,
          "output_type": "execute_result",
          "data": {
            "text/plain": "Sequence(feature=Value(dtype='int8', id=None), length=-1, id=None)"
          },
          "metadata": {}
        }
      ]
    },
    {
      "cell_type": "code",
      "source": [
        "model = AutoModelForSequenceClassification.from_pretrained(\"distilroberta-base\", num_labels=2)\n"
      ],
      "metadata": {
        "execution": {
          "iopub.status.busy": "2024-10-13T21:34:17.908496Z",
          "iopub.execute_input": "2024-10-13T21:34:17.909260Z",
          "iopub.status.idle": "2024-10-13T21:34:19.887863Z",
          "shell.execute_reply.started": "2024-10-13T21:34:17.909219Z",
          "shell.execute_reply": "2024-10-13T21:34:19.887153Z"
        },
        "trusted": true,
        "colab": {
          "referenced_widgets": [
            "d3d4710361ab41be888d80348dd8c7fe"
          ]
        },
        "id": "HpJhY09RgJpa",
        "outputId": "33aa4677-77c9-46f0-da50-6fd96453e78f"
      },
      "execution_count": null,
      "outputs": [
        {
          "output_type": "display_data",
          "data": {
            "text/plain": "model.safetensors:   0%|          | 0.00/331M [00:00<?, ?B/s]",
            "application/vnd.jupyter.widget-view+json": {
              "version_major": 2,
              "version_minor": 0,
              "model_id": "d3d4710361ab41be888d80348dd8c7fe"
            }
          },
          "metadata": {}
        },
        {
          "name": "stderr",
          "text": "Some weights of RobertaForSequenceClassification were not initialized from the model checkpoint at distilroberta-base and are newly initialized: ['classifier.dense.bias', 'classifier.dense.weight', 'classifier.out_proj.bias', 'classifier.out_proj.weight']\nYou should probably TRAIN this model on a down-stream task to be able to use it for predictions and inference.\n",
          "output_type": "stream"
        }
      ]
    },
    {
      "cell_type": "code",
      "source": [
        "# Define the evaluation metric\n",
        "\n",
        "def compute_metrics(pred):\n",
        "    labels = pred.label_ids\n",
        "    preds = pred.predictions.argmax(-1)\n",
        "    accuracy = (preds == labels).mean()\n",
        "    return {\"accuracy\": accuracy}"
      ],
      "metadata": {
        "execution": {
          "iopub.status.busy": "2024-10-13T21:34:22.300839Z",
          "iopub.execute_input": "2024-10-13T21:34:22.301228Z",
          "iopub.status.idle": "2024-10-13T21:34:22.306320Z",
          "shell.execute_reply.started": "2024-10-13T21:34:22.301192Z",
          "shell.execute_reply": "2024-10-13T21:34:22.305395Z"
        },
        "trusted": true,
        "id": "Kjx0SUSkgJpb"
      },
      "execution_count": null,
      "outputs": []
    },
    {
      "cell_type": "code",
      "source": [
        "training_args = TrainingArguments(\n",
        "    output_dir='./results',          # output directory\n",
        "    num_train_epochs=2,              # total number of training epochs\n",
        "    per_device_train_batch_size=16,  # batch size per device during training\n",
        "    per_device_eval_batch_size=16,   # batch size for evaluation\n",
        "    warmup_steps=500,                # number of warmup steps for learning rate scheduler\n",
        "    weight_decay=0.01,               # strength of weight decay\n",
        "    logging_dir='./logs',            # directory for storing logs\n",
        "    logging_steps=10,\n",
        "     evaluation_strategy='epoch',     # Evaluate at each epoch\n",
        ")"
      ],
      "metadata": {
        "execution": {
          "iopub.status.busy": "2024-10-13T21:34:25.277469Z",
          "iopub.execute_input": "2024-10-13T21:34:25.278234Z",
          "iopub.status.idle": "2024-10-13T21:34:25.404472Z",
          "shell.execute_reply.started": "2024-10-13T21:34:25.278193Z",
          "shell.execute_reply": "2024-10-13T21:34:25.403716Z"
        },
        "trusted": true,
        "id": "wskkN5crgJpb"
      },
      "execution_count": null,
      "outputs": []
    },
    {
      "cell_type": "code",
      "source": [
        "trainer = Trainer(\n",
        "    model=model,\n",
        "    args=training_args,\n",
        "    train_dataset=dataset['train'],\n",
        "    eval_dataset=dataset['validation'],\n",
        "    compute_metrics=compute_metrics,\n",
        ")\n",
        "\n",
        "trainer.train()\n",
        "# We are going to get multiple loss values on each training step here\n"
      ],
      "metadata": {
        "execution": {
          "iopub.status.busy": "2024-10-13T21:34:35.753781Z",
          "iopub.execute_input": "2024-10-13T21:34:35.754500Z",
          "iopub.status.idle": "2024-10-13T22:13:08.038008Z",
          "shell.execute_reply.started": "2024-10-13T21:34:35.754462Z",
          "shell.execute_reply": "2024-10-13T22:13:08.037194Z"
        },
        "trusted": true,
        "colab": {
          "referenced_widgets": [
            "a0ae109a57d442dbbcc31c2cf7fa67b8"
          ]
        },
        "id": "BJwQhUtogJpc",
        "outputId": "1b12602c-adab-4259-cd6d-093c7a3cf914"
      },
      "execution_count": null,
      "outputs": [
        {
          "name": "stderr",
          "text": "\u001b[34m\u001b[1mwandb\u001b[0m: \u001b[33mWARNING\u001b[0m The `run_name` is currently set to the same value as `TrainingArguments.output_dir`. If this was not intended, please specify a different run name by setting the `TrainingArguments.run_name` parameter.\n\u001b[34m\u001b[1mwandb\u001b[0m: Using wandb-core as the SDK backend. Please refer to https://wandb.me/wandb-core for more information.\n\u001b[34m\u001b[1mwandb\u001b[0m: Logging into wandb.ai. (Learn how to deploy a W&B server locally: https://wandb.me/wandb-server)\n\u001b[34m\u001b[1mwandb\u001b[0m: You can find your API key in your browser here: https://wandb.ai/authorize\n\u001b[34m\u001b[1mwandb\u001b[0m: Paste an API key from your profile and hit enter, or press ctrl+c to quit:",
          "output_type": "stream"
        },
        {
          "output_type": "stream",
          "name": "stdin",
          "text": "  ········································\n"
        },
        {
          "name": "stderr",
          "text": "\u001b[34m\u001b[1mwandb\u001b[0m: Appending key for api.wandb.ai to your netrc file: /root/.netrc\n",
          "output_type": "stream"
        },
        {
          "output_type": "display_data",
          "data": {
            "text/plain": "VBox(children=(Label(value='Waiting for wandb.init()...\\r'), FloatProgress(value=0.011112763933336585, max=1.0…",
            "application/vnd.jupyter.widget-view+json": {
              "version_major": 2,
              "version_minor": 0,
              "model_id": "a0ae109a57d442dbbcc31c2cf7fa67b8"
            }
          },
          "metadata": {}
        },
        {
          "output_type": "display_data",
          "data": {
            "text/plain": "<IPython.core.display.HTML object>",
            "text/html": "Tracking run with wandb version 0.18.3"
          },
          "metadata": {}
        },
        {
          "output_type": "display_data",
          "data": {
            "text/plain": "<IPython.core.display.HTML object>",
            "text/html": "Run data is saved locally in <code>/kaggle/working/wandb/run-20241013_213443-p9r52dv3</code>"
          },
          "metadata": {}
        },
        {
          "output_type": "display_data",
          "data": {
            "text/plain": "<IPython.core.display.HTML object>",
            "text/html": "Syncing run <strong><a href='https://wandb.ai/mountassirfathi8-faculte-de-science/huggingface/runs/p9r52dv3' target=\"_blank\">./results</a></strong> to <a href='https://wandb.ai/mountassirfathi8-faculte-de-science/huggingface' target=\"_blank\">Weights & Biases</a> (<a href='https://wandb.me/run' target=\"_blank\">docs</a>)<br/>"
          },
          "metadata": {}
        },
        {
          "output_type": "display_data",
          "data": {
            "text/plain": "<IPython.core.display.HTML object>",
            "text/html": " View project at <a href='https://wandb.ai/mountassirfathi8-faculte-de-science/huggingface' target=\"_blank\">https://wandb.ai/mountassirfathi8-faculte-de-science/huggingface</a>"
          },
          "metadata": {}
        },
        {
          "output_type": "display_data",
          "data": {
            "text/plain": "<IPython.core.display.HTML object>",
            "text/html": " View run at <a href='https://wandb.ai/mountassirfathi8-faculte-de-science/huggingface/runs/p9r52dv3' target=\"_blank\">https://wandb.ai/mountassirfathi8-faculte-de-science/huggingface/runs/p9r52dv3</a>"
          },
          "metadata": {}
        },
        {
          "output_type": "display_data",
          "data": {
            "text/plain": "<IPython.core.display.HTML object>",
            "text/html": "\n    <div>\n      \n      <progress value='2500' max='2500' style='width:300px; height:20px; vertical-align: middle;'></progress>\n      [2500/2500 38:18, Epoch 2/2]\n    </div>\n    <table border=\"1\" class=\"dataframe\">\n  <thead>\n <tr style=\"text-align: left;\">\n      <th>Epoch</th>\n      <th>Training Loss</th>\n      <th>Validation Loss</th>\n      <th>Accuracy</th>\n    </tr>\n  </thead>\n  <tbody>\n    <tr>\n      <td>1</td>\n      <td>0.234400</td>\n      <td>0.275377</td>\n      <td>0.896900</td>\n    </tr>\n    <tr>\n      <td>2</td>\n      <td>0.161700</td>\n      <td>0.217356</td>\n      <td>0.920000</td>\n    </tr>\n  </tbody>\n</table><p>"
          },
          "metadata": {}
        },
        {
          "execution_count": 30,
          "output_type": "execute_result",
          "data": {
            "text/plain": "TrainOutput(global_step=2500, training_loss=0.25021154356002806, metrics={'train_runtime': 2310.1197, 'train_samples_per_second': 34.63, 'train_steps_per_second': 1.082, 'total_flos': 1.059739189248e+16, 'train_loss': 0.25021154356002806, 'epoch': 2.0})"
          },
          "metadata": {}
        }
      ]
    },
    {
      "cell_type": "code",
      "source": [
        "rsultat = trainer.evaluate()\n"
      ],
      "metadata": {
        "execution": {
          "iopub.status.busy": "2024-10-13T22:24:25.121482Z",
          "iopub.execute_input": "2024-10-13T22:24:25.121888Z",
          "iopub.status.idle": "2024-10-13T22:25:51.483986Z",
          "shell.execute_reply.started": "2024-10-13T22:24:25.121848Z",
          "shell.execute_reply": "2024-10-13T22:25:51.482897Z"
        },
        "trusted": true,
        "id": "FBReqVNqgJpd"
      },
      "execution_count": null,
      "outputs": []
    },
    {
      "cell_type": "code",
      "source": [
        "print(rsultat)"
      ],
      "metadata": {
        "execution": {
          "iopub.status.busy": "2024-10-13T22:26:16.125194Z",
          "iopub.execute_input": "2024-10-13T22:26:16.125578Z",
          "iopub.status.idle": "2024-10-13T22:26:16.133694Z",
          "shell.execute_reply.started": "2024-10-13T22:26:16.125540Z",
          "shell.execute_reply": "2024-10-13T22:26:16.132752Z"
        },
        "trusted": true,
        "id": "Fmzi9lNWgJpd",
        "outputId": "c82cb82f-3216-401a-9055-3fb50312c7e8"
      },
      "execution_count": null,
      "outputs": [
        {
          "name": "stdout",
          "text": "{'eval_loss': 0.21735620498657227, 'eval_accuracy': 0.92, 'eval_runtime': 86.279, 'eval_samples_per_second': 115.903, 'eval_steps_per_second': 3.628, 'epoch': 2.0}\n",
          "output_type": "stream"
        }
      ]
    }
  ]
}