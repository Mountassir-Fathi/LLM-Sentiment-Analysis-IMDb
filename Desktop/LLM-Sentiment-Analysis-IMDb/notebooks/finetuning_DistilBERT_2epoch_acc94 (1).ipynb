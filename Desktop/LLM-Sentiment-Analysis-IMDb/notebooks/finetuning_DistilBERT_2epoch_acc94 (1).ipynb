{
  "metadata": {
    "kaggle": {
      "accelerator": "nvidiaTeslaT4",
      "dataSources": [],
      "dockerImageVersionId": 30787,
      "isInternetEnabled": true,
      "language": "python",
      "sourceType": "notebook",
      "isGpuEnabled": true
    },
    "kernelspec": {
      "display_name": "Python 3",
      "name": "python3"
    },
    "language_info": {
      "name": "python",
      "version": "3.10.14",
      "mimetype": "text/x-python",
      "codemirror_mode": {
        "name": "ipython",
        "version": 3
      },
      "pygments_lexer": "ipython3",
      "nbconvert_exporter": "python",
      "file_extension": ".py"
    },
    "papermill": {
      "default_parameters": {},
      "duration": 1801.80932,
      "end_time": "2024-09-11T14:27:49.109317",
      "environment_variables": {},
      "exception": null,
      "input_path": "__notebook__.ipynb",
      "output_path": "__notebook__.ipynb",
      "parameters": {},
      "start_time": "2024-09-11T13:57:47.299997",
      "version": "2.5.0"
    },
    "widgets": {
      "application/vnd.jupyter.widget-state+json": {
        "e4366928d53f458da4dd19ee75b96cdb": {
          "model_module": "@jupyter-widgets/controls",
          "model_name": "HBoxModel",
          "model_module_version": "1.5.0",
          "state": {
            "_dom_classes": [],
            "_model_module": "@jupyter-widgets/controls",
            "_model_module_version": "1.5.0",
            "_model_name": "HBoxModel",
            "_view_count": null,
            "_view_module": "@jupyter-widgets/controls",
            "_view_module_version": "1.5.0",
            "_view_name": "HBoxView",
            "box_style": "",
            "children": [
              "IPY_MODEL_7d63154c55be4d6b93e5c3d7465134c3",
              "IPY_MODEL_71bca66147224bca8f65617111e23397",
              "IPY_MODEL_4c540eb8a4d04daf8d466d8e1b9aedf0"
            ],
            "layout": "IPY_MODEL_b2b29d80ba57474a923cb8594fae6cac"
          }
        },
        "7d63154c55be4d6b93e5c3d7465134c3": {
          "model_module": "@jupyter-widgets/controls",
          "model_name": "HTMLModel",
          "model_module_version": "1.5.0",
          "state": {
            "_dom_classes": [],
            "_model_module": "@jupyter-widgets/controls",
            "_model_module_version": "1.5.0",
            "_model_name": "HTMLModel",
            "_view_count": null,
            "_view_module": "@jupyter-widgets/controls",
            "_view_module_version": "1.5.0",
            "_view_name": "HTMLView",
            "description": "",
            "description_tooltip": null,
            "layout": "IPY_MODEL_00802527a78f457d89520c47999c86aa",
            "placeholder": "​",
            "style": "IPY_MODEL_a0293394344f471c85c8db6a58a9ae87",
            "value": "tokenizer_config.json: 100%"
          }
        },
        "71bca66147224bca8f65617111e23397": {
          "model_module": "@jupyter-widgets/controls",
          "model_name": "FloatProgressModel",
          "model_module_version": "1.5.0",
          "state": {
            "_dom_classes": [],
            "_model_module": "@jupyter-widgets/controls",
            "_model_module_version": "1.5.0",
            "_model_name": "FloatProgressModel",
            "_view_count": null,
            "_view_module": "@jupyter-widgets/controls",
            "_view_module_version": "1.5.0",
            "_view_name": "ProgressView",
            "bar_style": "success",
            "description": "",
            "description_tooltip": null,
            "layout": "IPY_MODEL_f411a1055d64441c91f1c1ca345a761c",
            "max": 48,
            "min": 0,
            "orientation": "horizontal",
            "style": "IPY_MODEL_dca69eea4c514cb88250434fd5d68491",
            "value": 48
          }
        },
        "4c540eb8a4d04daf8d466d8e1b9aedf0": {
          "model_module": "@jupyter-widgets/controls",
          "model_name": "HTMLModel",
          "model_module_version": "1.5.0",
          "state": {
            "_dom_classes": [],
            "_model_module": "@jupyter-widgets/controls",
            "_model_module_version": "1.5.0",
            "_model_name": "HTMLModel",
            "_view_count": null,
            "_view_module": "@jupyter-widgets/controls",
            "_view_module_version": "1.5.0",
            "_view_name": "HTMLView",
            "description": "",
            "description_tooltip": null,
            "layout": "IPY_MODEL_c83cea2451c54287aa82c5bda3fb2e48",
            "placeholder": "​",
            "style": "IPY_MODEL_047024d378d249f0a1bbdfeb7bddbbe3",
            "value": " 48.0/48.0 [00:00&lt;00:00, 3.49kB/s]"
          }
        },
        "b2b29d80ba57474a923cb8594fae6cac": {
          "model_module": "@jupyter-widgets/base",
          "model_name": "LayoutModel",
          "model_module_version": "1.2.0",
          "state": {
            "_model_module": "@jupyter-widgets/base",
            "_model_module_version": "1.2.0",
            "_model_name": "LayoutModel",
            "_view_count": null,
            "_view_module": "@jupyter-widgets/base",
            "_view_module_version": "1.2.0",
            "_view_name": "LayoutView",
            "align_content": null,
            "align_items": null,
            "align_self": null,
            "border": null,
            "bottom": null,
            "display": null,
            "flex": null,
            "flex_flow": null,
            "grid_area": null,
            "grid_auto_columns": null,
            "grid_auto_flow": null,
            "grid_auto_rows": null,
            "grid_column": null,
            "grid_gap": null,
            "grid_row": null,
            "grid_template_areas": null,
            "grid_template_columns": null,
            "grid_template_rows": null,
            "height": null,
            "justify_content": null,
            "justify_items": null,
            "left": null,
            "margin": null,
            "max_height": null,
            "max_width": null,
            "min_height": null,
            "min_width": null,
            "object_fit": null,
            "object_position": null,
            "order": null,
            "overflow": null,
            "overflow_x": null,
            "overflow_y": null,
            "padding": null,
            "right": null,
            "top": null,
            "visibility": null,
            "width": null
          }
        },
        "00802527a78f457d89520c47999c86aa": {
          "model_module": "@jupyter-widgets/base",
          "model_name": "LayoutModel",
          "model_module_version": "1.2.0",
          "state": {
            "_model_module": "@jupyter-widgets/base",
            "_model_module_version": "1.2.0",
            "_model_name": "LayoutModel",
            "_view_count": null,
            "_view_module": "@jupyter-widgets/base",
            "_view_module_version": "1.2.0",
            "_view_name": "LayoutView",
            "align_content": null,
            "align_items": null,
            "align_self": null,
            "border": null,
            "bottom": null,
            "display": null,
            "flex": null,
            "flex_flow": null,
            "grid_area": null,
            "grid_auto_columns": null,
            "grid_auto_flow": null,
            "grid_auto_rows": null,
            "grid_column": null,
            "grid_gap": null,
            "grid_row": null,
            "grid_template_areas": null,
            "grid_template_columns": null,
            "grid_template_rows": null,
            "height": null,
            "justify_content": null,
            "justify_items": null,
            "left": null,
            "margin": null,
            "max_height": null,
            "max_width": null,
            "min_height": null,
            "min_width": null,
            "object_fit": null,
            "object_position": null,
            "order": null,
            "overflow": null,
            "overflow_x": null,
            "overflow_y": null,
            "padding": null,
            "right": null,
            "top": null,
            "visibility": null,
            "width": null
          }
        },
        "a0293394344f471c85c8db6a58a9ae87": {
          "model_module": "@jupyter-widgets/controls",
          "model_name": "DescriptionStyleModel",
          "model_module_version": "1.5.0",
          "state": {
            "_model_module": "@jupyter-widgets/controls",
            "_model_module_version": "1.5.0",
            "_model_name": "DescriptionStyleModel",
            "_view_count": null,
            "_view_module": "@jupyter-widgets/base",
            "_view_module_version": "1.2.0",
            "_view_name": "StyleView",
            "description_width": ""
          }
        },
        "f411a1055d64441c91f1c1ca345a761c": {
          "model_module": "@jupyter-widgets/base",
          "model_name": "LayoutModel",
          "model_module_version": "1.2.0",
          "state": {
            "_model_module": "@jupyter-widgets/base",
            "_model_module_version": "1.2.0",
            "_model_name": "LayoutModel",
            "_view_count": null,
            "_view_module": "@jupyter-widgets/base",
            "_view_module_version": "1.2.0",
            "_view_name": "LayoutView",
            "align_content": null,
            "align_items": null,
            "align_self": null,
            "border": null,
            "bottom": null,
            "display": null,
            "flex": null,
            "flex_flow": null,
            "grid_area": null,
            "grid_auto_columns": null,
            "grid_auto_flow": null,
            "grid_auto_rows": null,
            "grid_column": null,
            "grid_gap": null,
            "grid_row": null,
            "grid_template_areas": null,
            "grid_template_columns": null,
            "grid_template_rows": null,
            "height": null,
            "justify_content": null,
            "justify_items": null,
            "left": null,
            "margin": null,
            "max_height": null,
            "max_width": null,
            "min_height": null,
            "min_width": null,
            "object_fit": null,
            "object_position": null,
            "order": null,
            "overflow": null,
            "overflow_x": null,
            "overflow_y": null,
            "padding": null,
            "right": null,
            "top": null,
            "visibility": null,
            "width": null
          }
        },
        "dca69eea4c514cb88250434fd5d68491": {
          "model_module": "@jupyter-widgets/controls",
          "model_name": "ProgressStyleModel",
          "model_module_version": "1.5.0",
          "state": {
            "_model_module": "@jupyter-widgets/controls",
            "_model_module_version": "1.5.0",
            "_model_name": "ProgressStyleModel",
            "_view_count": null,
            "_view_module": "@jupyter-widgets/base",
            "_view_module_version": "1.2.0",
            "_view_name": "StyleView",
            "bar_color": null,
            "description_width": ""
          }
        },
        "c83cea2451c54287aa82c5bda3fb2e48": {
          "model_module": "@jupyter-widgets/base",
          "model_name": "LayoutModel",
          "model_module_version": "1.2.0",
          "state": {
            "_model_module": "@jupyter-widgets/base",
            "_model_module_version": "1.2.0",
            "_model_name": "LayoutModel",
            "_view_count": null,
            "_view_module": "@jupyter-widgets/base",
            "_view_module_version": "1.2.0",
            "_view_name": "LayoutView",
            "align_content": null,
            "align_items": null,
            "align_self": null,
            "border": null,
            "bottom": null,
            "display": null,
            "flex": null,
            "flex_flow": null,
            "grid_area": null,
            "grid_auto_columns": null,
            "grid_auto_flow": null,
            "grid_auto_rows": null,
            "grid_column": null,
            "grid_gap": null,
            "grid_row": null,
            "grid_template_areas": null,
            "grid_template_columns": null,
            "grid_template_rows": null,
            "height": null,
            "justify_content": null,
            "justify_items": null,
            "left": null,
            "margin": null,
            "max_height": null,
            "max_width": null,
            "min_height": null,
            "min_width": null,
            "object_fit": null,
            "object_position": null,
            "order": null,
            "overflow": null,
            "overflow_x": null,
            "overflow_y": null,
            "padding": null,
            "right": null,
            "top": null,
            "visibility": null,
            "width": null
          }
        },
        "047024d378d249f0a1bbdfeb7bddbbe3": {
          "model_module": "@jupyter-widgets/controls",
          "model_name": "DescriptionStyleModel",
          "model_module_version": "1.5.0",
          "state": {
            "_model_module": "@jupyter-widgets/controls",
            "_model_module_version": "1.5.0",
            "_model_name": "DescriptionStyleModel",
            "_view_count": null,
            "_view_module": "@jupyter-widgets/base",
            "_view_module_version": "1.2.0",
            "_view_name": "StyleView",
            "description_width": ""
          }
        },
        "05439aabc4634b4ab021cb632d97ce52": {
          "model_module": "@jupyter-widgets/controls",
          "model_name": "HBoxModel",
          "model_module_version": "1.5.0",
          "state": {
            "_dom_classes": [],
            "_model_module": "@jupyter-widgets/controls",
            "_model_module_version": "1.5.0",
            "_model_name": "HBoxModel",
            "_view_count": null,
            "_view_module": "@jupyter-widgets/controls",
            "_view_module_version": "1.5.0",
            "_view_name": "HBoxView",
            "box_style": "",
            "children": [
              "IPY_MODEL_bf71612d91504d42b2443696d5ca5000",
              "IPY_MODEL_d539a2d6f1a7467db33e35b8393908fc",
              "IPY_MODEL_e40b3cb31907495ba934c4bc8a12feac"
            ],
            "layout": "IPY_MODEL_53e934c8f13643dea38d829cc937e00d"
          }
        },
        "bf71612d91504d42b2443696d5ca5000": {
          "model_module": "@jupyter-widgets/controls",
          "model_name": "HTMLModel",
          "model_module_version": "1.5.0",
          "state": {
            "_dom_classes": [],
            "_model_module": "@jupyter-widgets/controls",
            "_model_module_version": "1.5.0",
            "_model_name": "HTMLModel",
            "_view_count": null,
            "_view_module": "@jupyter-widgets/controls",
            "_view_module_version": "1.5.0",
            "_view_name": "HTMLView",
            "description": "",
            "description_tooltip": null,
            "layout": "IPY_MODEL_cddce1f1f25646ce9ca1842e3047b9cf",
            "placeholder": "​",
            "style": "IPY_MODEL_fd649a567d2045aaa74b259d8db20e6f",
            "value": "vocab.txt: 100%"
          }
        },
        "d539a2d6f1a7467db33e35b8393908fc": {
          "model_module": "@jupyter-widgets/controls",
          "model_name": "FloatProgressModel",
          "model_module_version": "1.5.0",
          "state": {
            "_dom_classes": [],
            "_model_module": "@jupyter-widgets/controls",
            "_model_module_version": "1.5.0",
            "_model_name": "FloatProgressModel",
            "_view_count": null,
            "_view_module": "@jupyter-widgets/controls",
            "_view_module_version": "1.5.0",
            "_view_name": "ProgressView",
            "bar_style": "success",
            "description": "",
            "description_tooltip": null,
            "layout": "IPY_MODEL_cbd6d02a7654475689dbd5dd6cd48723",
            "max": 231508,
            "min": 0,
            "orientation": "horizontal",
            "style": "IPY_MODEL_5cf2b64ac3774d88a5ef88aa3b069734",
            "value": 231508
          }
        },
        "e40b3cb31907495ba934c4bc8a12feac": {
          "model_module": "@jupyter-widgets/controls",
          "model_name": "HTMLModel",
          "model_module_version": "1.5.0",
          "state": {
            "_dom_classes": [],
            "_model_module": "@jupyter-widgets/controls",
            "_model_module_version": "1.5.0",
            "_model_name": "HTMLModel",
            "_view_count": null,
            "_view_module": "@jupyter-widgets/controls",
            "_view_module_version": "1.5.0",
            "_view_name": "HTMLView",
            "description": "",
            "description_tooltip": null,
            "layout": "IPY_MODEL_9ea4f59dcd9643a4b348914ff484acbe",
            "placeholder": "​",
            "style": "IPY_MODEL_cc95a8c97d0949f183c7dd3a3c977bc3",
            "value": " 232k/232k [00:00&lt;00:00, 12.5MB/s]"
          }
        },
        "53e934c8f13643dea38d829cc937e00d": {
          "model_module": "@jupyter-widgets/base",
          "model_name": "LayoutModel",
          "model_module_version": "1.2.0",
          "state": {
            "_model_module": "@jupyter-widgets/base",
            "_model_module_version": "1.2.0",
            "_model_name": "LayoutModel",
            "_view_count": null,
            "_view_module": "@jupyter-widgets/base",
            "_view_module_version": "1.2.0",
            "_view_name": "LayoutView",
            "align_content": null,
            "align_items": null,
            "align_self": null,
            "border": null,
            "bottom": null,
            "display": null,
            "flex": null,
            "flex_flow": null,
            "grid_area": null,
            "grid_auto_columns": null,
            "grid_auto_flow": null,
            "grid_auto_rows": null,
            "grid_column": null,
            "grid_gap": null,
            "grid_row": null,
            "grid_template_areas": null,
            "grid_template_columns": null,
            "grid_template_rows": null,
            "height": null,
            "justify_content": null,
            "justify_items": null,
            "left": null,
            "margin": null,
            "max_height": null,
            "max_width": null,
            "min_height": null,
            "min_width": null,
            "object_fit": null,
            "object_position": null,
            "order": null,
            "overflow": null,
            "overflow_x": null,
            "overflow_y": null,
            "padding": null,
            "right": null,
            "top": null,
            "visibility": null,
            "width": null
          }
        },
        "cddce1f1f25646ce9ca1842e3047b9cf": {
          "model_module": "@jupyter-widgets/base",
          "model_name": "LayoutModel",
          "model_module_version": "1.2.0",
          "state": {
            "_model_module": "@jupyter-widgets/base",
            "_model_module_version": "1.2.0",
            "_model_name": "LayoutModel",
            "_view_count": null,
            "_view_module": "@jupyter-widgets/base",
            "_view_module_version": "1.2.0",
            "_view_name": "LayoutView",
            "align_content": null,
            "align_items": null,
            "align_self": null,
            "border": null,
            "bottom": null,
            "display": null,
            "flex": null,
            "flex_flow": null,
            "grid_area": null,
            "grid_auto_columns": null,
            "grid_auto_flow": null,
            "grid_auto_rows": null,
            "grid_column": null,
            "grid_gap": null,
            "grid_row": null,
            "grid_template_areas": null,
            "grid_template_columns": null,
            "grid_template_rows": null,
            "height": null,
            "justify_content": null,
            "justify_items": null,
            "left": null,
            "margin": null,
            "max_height": null,
            "max_width": null,
            "min_height": null,
            "min_width": null,
            "object_fit": null,
            "object_position": null,
            "order": null,
            "overflow": null,
            "overflow_x": null,
            "overflow_y": null,
            "padding": null,
            "right": null,
            "top": null,
            "visibility": null,
            "width": null
          }
        },
        "fd649a567d2045aaa74b259d8db20e6f": {
          "model_module": "@jupyter-widgets/controls",
          "model_name": "DescriptionStyleModel",
          "model_module_version": "1.5.0",
          "state": {
            "_model_module": "@jupyter-widgets/controls",
            "_model_module_version": "1.5.0",
            "_model_name": "DescriptionStyleModel",
            "_view_count": null,
            "_view_module": "@jupyter-widgets/base",
            "_view_module_version": "1.2.0",
            "_view_name": "StyleView",
            "description_width": ""
          }
        },
        "cbd6d02a7654475689dbd5dd6cd48723": {
          "model_module": "@jupyter-widgets/base",
          "model_name": "LayoutModel",
          "model_module_version": "1.2.0",
          "state": {
            "_model_module": "@jupyter-widgets/base",
            "_model_module_version": "1.2.0",
            "_model_name": "LayoutModel",
            "_view_count": null,
            "_view_module": "@jupyter-widgets/base",
            "_view_module_version": "1.2.0",
            "_view_name": "LayoutView",
            "align_content": null,
            "align_items": null,
            "align_self": null,
            "border": null,
            "bottom": null,
            "display": null,
            "flex": null,
            "flex_flow": null,
            "grid_area": null,
            "grid_auto_columns": null,
            "grid_auto_flow": null,
            "grid_auto_rows": null,
            "grid_column": null,
            "grid_gap": null,
            "grid_row": null,
            "grid_template_areas": null,
            "grid_template_columns": null,
            "grid_template_rows": null,
            "height": null,
            "justify_content": null,
            "justify_items": null,
            "left": null,
            "margin": null,
            "max_height": null,
            "max_width": null,
            "min_height": null,
            "min_width": null,
            "object_fit": null,
            "object_position": null,
            "order": null,
            "overflow": null,
            "overflow_x": null,
            "overflow_y": null,
            "padding": null,
            "right": null,
            "top": null,
            "visibility": null,
            "width": null
          }
        },
        "5cf2b64ac3774d88a5ef88aa3b069734": {
          "model_module": "@jupyter-widgets/controls",
          "model_name": "ProgressStyleModel",
          "model_module_version": "1.5.0",
          "state": {
            "_model_module": "@jupyter-widgets/controls",
            "_model_module_version": "1.5.0",
            "_model_name": "ProgressStyleModel",
            "_view_count": null,
            "_view_module": "@jupyter-widgets/base",
            "_view_module_version": "1.2.0",
            "_view_name": "StyleView",
            "bar_color": null,
            "description_width": ""
          }
        },
        "9ea4f59dcd9643a4b348914ff484acbe": {
          "model_module": "@jupyter-widgets/base",
          "model_name": "LayoutModel",
          "model_module_version": "1.2.0",
          "state": {
            "_model_module": "@jupyter-widgets/base",
            "_model_module_version": "1.2.0",
            "_model_name": "LayoutModel",
            "_view_count": null,
            "_view_module": "@jupyter-widgets/base",
            "_view_module_version": "1.2.0",
            "_view_name": "LayoutView",
            "align_content": null,
            "align_items": null,
            "align_self": null,
            "border": null,
            "bottom": null,
            "display": null,
            "flex": null,
            "flex_flow": null,
            "grid_area": null,
            "grid_auto_columns": null,
            "grid_auto_flow": null,
            "grid_auto_rows": null,
            "grid_column": null,
            "grid_gap": null,
            "grid_row": null,
            "grid_template_areas": null,
            "grid_template_columns": null,
            "grid_template_rows": null,
            "height": null,
            "justify_content": null,
            "justify_items": null,
            "left": null,
            "margin": null,
            "max_height": null,
            "max_width": null,
            "min_height": null,
            "min_width": null,
            "object_fit": null,
            "object_position": null,
            "order": null,
            "overflow": null,
            "overflow_x": null,
            "overflow_y": null,
            "padding": null,
            "right": null,
            "top": null,
            "visibility": null,
            "width": null
          }
        },
        "cc95a8c97d0949f183c7dd3a3c977bc3": {
          "model_module": "@jupyter-widgets/controls",
          "model_name": "DescriptionStyleModel",
          "model_module_version": "1.5.0",
          "state": {
            "_model_module": "@jupyter-widgets/controls",
            "_model_module_version": "1.5.0",
            "_model_name": "DescriptionStyleModel",
            "_view_count": null,
            "_view_module": "@jupyter-widgets/base",
            "_view_module_version": "1.2.0",
            "_view_name": "StyleView",
            "description_width": ""
          }
        },
        "9c0fef98372747bb926b356ae22fd795": {
          "model_module": "@jupyter-widgets/controls",
          "model_name": "HBoxModel",
          "model_module_version": "1.5.0",
          "state": {
            "_dom_classes": [],
            "_model_module": "@jupyter-widgets/controls",
            "_model_module_version": "1.5.0",
            "_model_name": "HBoxModel",
            "_view_count": null,
            "_view_module": "@jupyter-widgets/controls",
            "_view_module_version": "1.5.0",
            "_view_name": "HBoxView",
            "box_style": "",
            "children": [
              "IPY_MODEL_fd009bc605e8427f935c193404a8fe03",
              "IPY_MODEL_acbde8afd1ab4e3ebc1d8756b598ed5f",
              "IPY_MODEL_f3b19129603d4e86947b921be29ed428"
            ],
            "layout": "IPY_MODEL_c16dd00c408d4b8b860f00622b29dfb9"
          }
        },
        "fd009bc605e8427f935c193404a8fe03": {
          "model_module": "@jupyter-widgets/controls",
          "model_name": "HTMLModel",
          "model_module_version": "1.5.0",
          "state": {
            "_dom_classes": [],
            "_model_module": "@jupyter-widgets/controls",
            "_model_module_version": "1.5.0",
            "_model_name": "HTMLModel",
            "_view_count": null,
            "_view_module": "@jupyter-widgets/controls",
            "_view_module_version": "1.5.0",
            "_view_name": "HTMLView",
            "description": "",
            "description_tooltip": null,
            "layout": "IPY_MODEL_bdcddf2c5360492990eb26786c374f84",
            "placeholder": "​",
            "style": "IPY_MODEL_e91b705daae54d9e82563462c591d3dd",
            "value": "config.json: 100%"
          }
        },
        "acbde8afd1ab4e3ebc1d8756b598ed5f": {
          "model_module": "@jupyter-widgets/controls",
          "model_name": "FloatProgressModel",
          "model_module_version": "1.5.0",
          "state": {
            "_dom_classes": [],
            "_model_module": "@jupyter-widgets/controls",
            "_model_module_version": "1.5.0",
            "_model_name": "FloatProgressModel",
            "_view_count": null,
            "_view_module": "@jupyter-widgets/controls",
            "_view_module_version": "1.5.0",
            "_view_name": "ProgressView",
            "bar_style": "success",
            "description": "",
            "description_tooltip": null,
            "layout": "IPY_MODEL_c6461bb7e8bb4718a65df7c8ac307275",
            "max": 629,
            "min": 0,
            "orientation": "horizontal",
            "style": "IPY_MODEL_5864d074dfba401599468b963b26c036",
            "value": 629
          }
        },
        "f3b19129603d4e86947b921be29ed428": {
          "model_module": "@jupyter-widgets/controls",
          "model_name": "HTMLModel",
          "model_module_version": "1.5.0",
          "state": {
            "_dom_classes": [],
            "_model_module": "@jupyter-widgets/controls",
            "_model_module_version": "1.5.0",
            "_model_name": "HTMLModel",
            "_view_count": null,
            "_view_module": "@jupyter-widgets/controls",
            "_view_module_version": "1.5.0",
            "_view_name": "HTMLView",
            "description": "",
            "description_tooltip": null,
            "layout": "IPY_MODEL_5975d5df8cd3448d979f34a111f5afe0",
            "placeholder": "​",
            "style": "IPY_MODEL_64a2f0b198494ffc850b4ca2c89b5b60",
            "value": " 629/629 [00:00&lt;00:00, 37.4kB/s]"
          }
        },
        "c16dd00c408d4b8b860f00622b29dfb9": {
          "model_module": "@jupyter-widgets/base",
          "model_name": "LayoutModel",
          "model_module_version": "1.2.0",
          "state": {
            "_model_module": "@jupyter-widgets/base",
            "_model_module_version": "1.2.0",
            "_model_name": "LayoutModel",
            "_view_count": null,
            "_view_module": "@jupyter-widgets/base",
            "_view_module_version": "1.2.0",
            "_view_name": "LayoutView",
            "align_content": null,
            "align_items": null,
            "align_self": null,
            "border": null,
            "bottom": null,
            "display": null,
            "flex": null,
            "flex_flow": null,
            "grid_area": null,
            "grid_auto_columns": null,
            "grid_auto_flow": null,
            "grid_auto_rows": null,
            "grid_column": null,
            "grid_gap": null,
            "grid_row": null,
            "grid_template_areas": null,
            "grid_template_columns": null,
            "grid_template_rows": null,
            "height": null,
            "justify_content": null,
            "justify_items": null,
            "left": null,
            "margin": null,
            "max_height": null,
            "max_width": null,
            "min_height": null,
            "min_width": null,
            "object_fit": null,
            "object_position": null,
            "order": null,
            "overflow": null,
            "overflow_x": null,
            "overflow_y": null,
            "padding": null,
            "right": null,
            "top": null,
            "visibility": null,
            "width": null
          }
        },
        "bdcddf2c5360492990eb26786c374f84": {
          "model_module": "@jupyter-widgets/base",
          "model_name": "LayoutModel",
          "model_module_version": "1.2.0",
          "state": {
            "_model_module": "@jupyter-widgets/base",
            "_model_module_version": "1.2.0",
            "_model_name": "LayoutModel",
            "_view_count": null,
            "_view_module": "@jupyter-widgets/base",
            "_view_module_version": "1.2.0",
            "_view_name": "LayoutView",
            "align_content": null,
            "align_items": null,
            "align_self": null,
            "border": null,
            "bottom": null,
            "display": null,
            "flex": null,
            "flex_flow": null,
            "grid_area": null,
            "grid_auto_columns": null,
            "grid_auto_flow": null,
            "grid_auto_rows": null,
            "grid_column": null,
            "grid_gap": null,
            "grid_row": null,
            "grid_template_areas": null,
            "grid_template_columns": null,
            "grid_template_rows": null,
            "height": null,
            "justify_content": null,
            "justify_items": null,
            "left": null,
            "margin": null,
            "max_height": null,
            "max_width": null,
            "min_height": null,
            "min_width": null,
            "object_fit": null,
            "object_position": null,
            "order": null,
            "overflow": null,
            "overflow_x": null,
            "overflow_y": null,
            "padding": null,
            "right": null,
            "top": null,
            "visibility": null,
            "width": null
          }
        },
        "e91b705daae54d9e82563462c591d3dd": {
          "model_module": "@jupyter-widgets/controls",
          "model_name": "DescriptionStyleModel",
          "model_module_version": "1.5.0",
          "state": {
            "_model_module": "@jupyter-widgets/controls",
            "_model_module_version": "1.5.0",
            "_model_name": "DescriptionStyleModel",
            "_view_count": null,
            "_view_module": "@jupyter-widgets/base",
            "_view_module_version": "1.2.0",
            "_view_name": "StyleView",
            "description_width": ""
          }
        },
        "c6461bb7e8bb4718a65df7c8ac307275": {
          "model_module": "@jupyter-widgets/base",
          "model_name": "LayoutModel",
          "model_module_version": "1.2.0",
          "state": {
            "_model_module": "@jupyter-widgets/base",
            "_model_module_version": "1.2.0",
            "_model_name": "LayoutModel",
            "_view_count": null,
            "_view_module": "@jupyter-widgets/base",
            "_view_module_version": "1.2.0",
            "_view_name": "LayoutView",
            "align_content": null,
            "align_items": null,
            "align_self": null,
            "border": null,
            "bottom": null,
            "display": null,
            "flex": null,
            "flex_flow": null,
            "grid_area": null,
            "grid_auto_columns": null,
            "grid_auto_flow": null,
            "grid_auto_rows": null,
            "grid_column": null,
            "grid_gap": null,
            "grid_row": null,
            "grid_template_areas": null,
            "grid_template_columns": null,
            "grid_template_rows": null,
            "height": null,
            "justify_content": null,
            "justify_items": null,
            "left": null,
            "margin": null,
            "max_height": null,
            "max_width": null,
            "min_height": null,
            "min_width": null,
            "object_fit": null,
            "object_position": null,
            "order": null,
            "overflow": null,
            "overflow_x": null,
            "overflow_y": null,
            "padding": null,
            "right": null,
            "top": null,
            "visibility": null,
            "width": null
          }
        },
        "5864d074dfba401599468b963b26c036": {
          "model_module": "@jupyter-widgets/controls",
          "model_name": "ProgressStyleModel",
          "model_module_version": "1.5.0",
          "state": {
            "_model_module": "@jupyter-widgets/controls",
            "_model_module_version": "1.5.0",
            "_model_name": "ProgressStyleModel",
            "_view_count": null,
            "_view_module": "@jupyter-widgets/base",
            "_view_module_version": "1.2.0",
            "_view_name": "StyleView",
            "bar_color": null,
            "description_width": ""
          }
        },
        "5975d5df8cd3448d979f34a111f5afe0": {
          "model_module": "@jupyter-widgets/base",
          "model_name": "LayoutModel",
          "model_module_version": "1.2.0",
          "state": {
            "_model_module": "@jupyter-widgets/base",
            "_model_module_version": "1.2.0",
            "_model_name": "LayoutModel",
            "_view_count": null,
            "_view_module": "@jupyter-widgets/base",
            "_view_module_version": "1.2.0",
            "_view_name": "LayoutView",
            "align_content": null,
            "align_items": null,
            "align_self": null,
            "border": null,
            "bottom": null,
            "display": null,
            "flex": null,
            "flex_flow": null,
            "grid_area": null,
            "grid_auto_columns": null,
            "grid_auto_flow": null,
            "grid_auto_rows": null,
            "grid_column": null,
            "grid_gap": null,
            "grid_row": null,
            "grid_template_areas": null,
            "grid_template_columns": null,
            "grid_template_rows": null,
            "height": null,
            "justify_content": null,
            "justify_items": null,
            "left": null,
            "margin": null,
            "max_height": null,
            "max_width": null,
            "min_height": null,
            "min_width": null,
            "object_fit": null,
            "object_position": null,
            "order": null,
            "overflow": null,
            "overflow_x": null,
            "overflow_y": null,
            "padding": null,
            "right": null,
            "top": null,
            "visibility": null,
            "width": null
          }
        },
        "64a2f0b198494ffc850b4ca2c89b5b60": {
          "model_module": "@jupyter-widgets/controls",
          "model_name": "DescriptionStyleModel",
          "model_module_version": "1.5.0",
          "state": {
            "_model_module": "@jupyter-widgets/controls",
            "_model_module_version": "1.5.0",
            "_model_name": "DescriptionStyleModel",
            "_view_count": null,
            "_view_module": "@jupyter-widgets/base",
            "_view_module_version": "1.2.0",
            "_view_name": "StyleView",
            "description_width": ""
          }
        },
        "3ac24d9f3b594a03b0a5b55fda660e14": {
          "model_module": "@jupyter-widgets/controls",
          "model_name": "HBoxModel",
          "model_module_version": "1.5.0",
          "state": {
            "_dom_classes": [],
            "_model_module": "@jupyter-widgets/controls",
            "_model_module_version": "1.5.0",
            "_model_name": "HBoxModel",
            "_view_count": null,
            "_view_module": "@jupyter-widgets/controls",
            "_view_module_version": "1.5.0",
            "_view_name": "HBoxView",
            "box_style": "",
            "children": [
              "IPY_MODEL_3a17dc67c26646b4af90b977506149df",
              "IPY_MODEL_fb67c02548b045a38a1ca9e766e67726",
              "IPY_MODEL_6e548ff33575482da76d13278828a75c"
            ],
            "layout": "IPY_MODEL_bd4b526247dd47da803ec7796be1b600"
          }
        },
        "3a17dc67c26646b4af90b977506149df": {
          "model_module": "@jupyter-widgets/controls",
          "model_name": "HTMLModel",
          "model_module_version": "1.5.0",
          "state": {
            "_dom_classes": [],
            "_model_module": "@jupyter-widgets/controls",
            "_model_module_version": "1.5.0",
            "_model_name": "HTMLModel",
            "_view_count": null,
            "_view_module": "@jupyter-widgets/controls",
            "_view_module_version": "1.5.0",
            "_view_name": "HTMLView",
            "description": "",
            "description_tooltip": null,
            "layout": "IPY_MODEL_629c6cb65f004482b77535f75b2effd9",
            "placeholder": "​",
            "style": "IPY_MODEL_0b323bd046934e6994f831239581d3c7",
            "value": "model.safetensors: 100%"
          }
        },
        "fb67c02548b045a38a1ca9e766e67726": {
          "model_module": "@jupyter-widgets/controls",
          "model_name": "FloatProgressModel",
          "model_module_version": "1.5.0",
          "state": {
            "_dom_classes": [],
            "_model_module": "@jupyter-widgets/controls",
            "_model_module_version": "1.5.0",
            "_model_name": "FloatProgressModel",
            "_view_count": null,
            "_view_module": "@jupyter-widgets/controls",
            "_view_module_version": "1.5.0",
            "_view_name": "ProgressView",
            "bar_style": "success",
            "description": "",
            "description_tooltip": null,
            "layout": "IPY_MODEL_4fbbf480a6e448f2a0dd502f1ccc6390",
            "max": 267832558,
            "min": 0,
            "orientation": "horizontal",
            "style": "IPY_MODEL_9889e919ea144c549db42e1017829a41",
            "value": 267832558
          }
        },
        "6e548ff33575482da76d13278828a75c": {
          "model_module": "@jupyter-widgets/controls",
          "model_name": "HTMLModel",
          "model_module_version": "1.5.0",
          "state": {
            "_dom_classes": [],
            "_model_module": "@jupyter-widgets/controls",
            "_model_module_version": "1.5.0",
            "_model_name": "HTMLModel",
            "_view_count": null,
            "_view_module": "@jupyter-widgets/controls",
            "_view_module_version": "1.5.0",
            "_view_name": "HTMLView",
            "description": "",
            "description_tooltip": null,
            "layout": "IPY_MODEL_95e091e58ed44d939bfcc84df335dbea",
            "placeholder": "​",
            "style": "IPY_MODEL_f6a3fefd08f84f1184e9b6c30d440be0",
            "value": " 268M/268M [00:00&lt;00:00, 325MB/s]"
          }
        },
        "bd4b526247dd47da803ec7796be1b600": {
          "model_module": "@jupyter-widgets/base",
          "model_name": "LayoutModel",
          "model_module_version": "1.2.0",
          "state": {
            "_model_module": "@jupyter-widgets/base",
            "_model_module_version": "1.2.0",
            "_model_name": "LayoutModel",
            "_view_count": null,
            "_view_module": "@jupyter-widgets/base",
            "_view_module_version": "1.2.0",
            "_view_name": "LayoutView",
            "align_content": null,
            "align_items": null,
            "align_self": null,
            "border": null,
            "bottom": null,
            "display": null,
            "flex": null,
            "flex_flow": null,
            "grid_area": null,
            "grid_auto_columns": null,
            "grid_auto_flow": null,
            "grid_auto_rows": null,
            "grid_column": null,
            "grid_gap": null,
            "grid_row": null,
            "grid_template_areas": null,
            "grid_template_columns": null,
            "grid_template_rows": null,
            "height": null,
            "justify_content": null,
            "justify_items": null,
            "left": null,
            "margin": null,
            "max_height": null,
            "max_width": null,
            "min_height": null,
            "min_width": null,
            "object_fit": null,
            "object_position": null,
            "order": null,
            "overflow": null,
            "overflow_x": null,
            "overflow_y": null,
            "padding": null,
            "right": null,
            "top": null,
            "visibility": null,
            "width": null
          }
        },
        "629c6cb65f004482b77535f75b2effd9": {
          "model_module": "@jupyter-widgets/base",
          "model_name": "LayoutModel",
          "model_module_version": "1.2.0",
          "state": {
            "_model_module": "@jupyter-widgets/base",
            "_model_module_version": "1.2.0",
            "_model_name": "LayoutModel",
            "_view_count": null,
            "_view_module": "@jupyter-widgets/base",
            "_view_module_version": "1.2.0",
            "_view_name": "LayoutView",
            "align_content": null,
            "align_items": null,
            "align_self": null,
            "border": null,
            "bottom": null,
            "display": null,
            "flex": null,
            "flex_flow": null,
            "grid_area": null,
            "grid_auto_columns": null,
            "grid_auto_flow": null,
            "grid_auto_rows": null,
            "grid_column": null,
            "grid_gap": null,
            "grid_row": null,
            "grid_template_areas": null,
            "grid_template_columns": null,
            "grid_template_rows": null,
            "height": null,
            "justify_content": null,
            "justify_items": null,
            "left": null,
            "margin": null,
            "max_height": null,
            "max_width": null,
            "min_height": null,
            "min_width": null,
            "object_fit": null,
            "object_position": null,
            "order": null,
            "overflow": null,
            "overflow_x": null,
            "overflow_y": null,
            "padding": null,
            "right": null,
            "top": null,
            "visibility": null,
            "width": null
          }
        },
        "0b323bd046934e6994f831239581d3c7": {
          "model_module": "@jupyter-widgets/controls",
          "model_name": "DescriptionStyleModel",
          "model_module_version": "1.5.0",
          "state": {
            "_model_module": "@jupyter-widgets/controls",
            "_model_module_version": "1.5.0",
            "_model_name": "DescriptionStyleModel",
            "_view_count": null,
            "_view_module": "@jupyter-widgets/base",
            "_view_module_version": "1.2.0",
            "_view_name": "StyleView",
            "description_width": ""
          }
        },
        "4fbbf480a6e448f2a0dd502f1ccc6390": {
          "model_module": "@jupyter-widgets/base",
          "model_name": "LayoutModel",
          "model_module_version": "1.2.0",
          "state": {
            "_model_module": "@jupyter-widgets/base",
            "_model_module_version": "1.2.0",
            "_model_name": "LayoutModel",
            "_view_count": null,
            "_view_module": "@jupyter-widgets/base",
            "_view_module_version": "1.2.0",
            "_view_name": "LayoutView",
            "align_content": null,
            "align_items": null,
            "align_self": null,
            "border": null,
            "bottom": null,
            "display": null,
            "flex": null,
            "flex_flow": null,
            "grid_area": null,
            "grid_auto_columns": null,
            "grid_auto_flow": null,
            "grid_auto_rows": null,
            "grid_column": null,
            "grid_gap": null,
            "grid_row": null,
            "grid_template_areas": null,
            "grid_template_columns": null,
            "grid_template_rows": null,
            "height": null,
            "justify_content": null,
            "justify_items": null,
            "left": null,
            "margin": null,
            "max_height": null,
            "max_width": null,
            "min_height": null,
            "min_width": null,
            "object_fit": null,
            "object_position": null,
            "order": null,
            "overflow": null,
            "overflow_x": null,
            "overflow_y": null,
            "padding": null,
            "right": null,
            "top": null,
            "visibility": null,
            "width": null
          }
        },
        "9889e919ea144c549db42e1017829a41": {
          "model_module": "@jupyter-widgets/controls",
          "model_name": "ProgressStyleModel",
          "model_module_version": "1.5.0",
          "state": {
            "_model_module": "@jupyter-widgets/controls",
            "_model_module_version": "1.5.0",
            "_model_name": "ProgressStyleModel",
            "_view_count": null,
            "_view_module": "@jupyter-widgets/base",
            "_view_module_version": "1.2.0",
            "_view_name": "StyleView",
            "bar_color": null,
            "description_width": ""
          }
        },
        "95e091e58ed44d939bfcc84df335dbea": {
          "model_module": "@jupyter-widgets/base",
          "model_name": "LayoutModel",
          "model_module_version": "1.2.0",
          "state": {
            "_model_module": "@jupyter-widgets/base",
            "_model_module_version": "1.2.0",
            "_model_name": "LayoutModel",
            "_view_count": null,
            "_view_module": "@jupyter-widgets/base",
            "_view_module_version": "1.2.0",
            "_view_name": "LayoutView",
            "align_content": null,
            "align_items": null,
            "align_self": null,
            "border": null,
            "bottom": null,
            "display": null,
            "flex": null,
            "flex_flow": null,
            "grid_area": null,
            "grid_auto_columns": null,
            "grid_auto_flow": null,
            "grid_auto_rows": null,
            "grid_column": null,
            "grid_gap": null,
            "grid_row": null,
            "grid_template_areas": null,
            "grid_template_columns": null,
            "grid_template_rows": null,
            "height": null,
            "justify_content": null,
            "justify_items": null,
            "left": null,
            "margin": null,
            "max_height": null,
            "max_width": null,
            "min_height": null,
            "min_width": null,
            "object_fit": null,
            "object_position": null,
            "order": null,
            "overflow": null,
            "overflow_x": null,
            "overflow_y": null,
            "padding": null,
            "right": null,
            "top": null,
            "visibility": null,
            "width": null
          }
        },
        "f6a3fefd08f84f1184e9b6c30d440be0": {
          "model_module": "@jupyter-widgets/controls",
          "model_name": "DescriptionStyleModel",
          "model_module_version": "1.5.0",
          "state": {
            "_model_module": "@jupyter-widgets/controls",
            "_model_module_version": "1.5.0",
            "_model_name": "DescriptionStyleModel",
            "_view_count": null,
            "_view_module": "@jupyter-widgets/base",
            "_view_module_version": "1.2.0",
            "_view_name": "StyleView",
            "description_width": ""
          }
        }
      }
    },
    "colab": {
      "provenance": [],
      "gpuType": "T4"
    },
    "accelerator": "GPU"
  },
  "nbformat_minor": 5,
  "nbformat": 4,
  "cells": [
    {
      "cell_type": "markdown",
      "source": [
        "# Introduction"
      ],
      "metadata": {
        "papermill": {
          "duration": 0.009165,
          "end_time": "2024-09-11T13:57:51.400836",
          "exception": false,
          "start_time": "2024-09-11T13:57:51.391671",
          "status": "completed"
        },
        "tags": [],
        "id": "lECPYCuYVBc8"
      },
      "id": "lECPYCuYVBc8"
    },
    {
      "cell_type": "markdown",
      "source": [
        "Transformer-based models like DistilBERT have revolutionized natural language processing. In this project, we explore DistilBERT's effectiveness in sentiment analysis on IMDb movie reviews. Our aim is to train a model that accurately predicts whether a review is positive or negative."
      ],
      "metadata": {
        "papermill": {
          "duration": 0.008372,
          "end_time": "2024-09-11T13:57:51.418168",
          "exception": false,
          "start_time": "2024-09-11T13:57:51.409796",
          "status": "completed"
        },
        "tags": [],
        "id": "NCzZ0FUgVBdC"
      },
      "id": "NCzZ0FUgVBdC"
    },
    {
      "cell_type": "markdown",
      "source": [
        "# Libraries"
      ],
      "metadata": {
        "papermill": {
          "duration": 0.008269,
          "end_time": "2024-09-11T13:57:51.435026",
          "exception": false,
          "start_time": "2024-09-11T13:57:51.426757",
          "status": "completed"
        },
        "tags": [],
        "id": "Hbxq2zoCVBdD"
      },
      "id": "Hbxq2zoCVBdD"
    },
    {
      "cell_type": "code",
      "source": [
        "import warnings\n",
        "warnings.filterwarnings('ignore')"
      ],
      "metadata": {
        "papermill": {
          "duration": 0.022608,
          "end_time": "2024-09-11T13:57:51.466018",
          "exception": false,
          "start_time": "2024-09-11T13:57:51.44341",
          "status": "completed"
        },
        "tags": [],
        "execution": {
          "iopub.status.busy": "2024-10-05T20:05:59.823041Z",
          "iopub.execute_input": "2024-10-05T20:05:59.824049Z",
          "iopub.status.idle": "2024-10-05T20:05:59.828614Z",
          "shell.execute_reply.started": "2024-10-05T20:05:59.824005Z",
          "shell.execute_reply": "2024-10-05T20:05:59.827548Z"
        },
        "trusted": true,
        "id": "Is54Bos7VBdE"
      },
      "execution_count": null,
      "outputs": [],
      "id": "Is54Bos7VBdE"
    },
    {
      "cell_type": "code",
      "source": [
        "pip install pandas numpy seaborn matplotlib scikit-learn torch transformers datasets evaluate"
      ],
      "metadata": {
        "execution": {
          "iopub.status.busy": "2024-10-05T20:06:03.424851Z",
          "iopub.execute_input": "2024-10-05T20:06:03.425901Z",
          "iopub.status.idle": "2024-10-05T20:06:17.247894Z",
          "shell.execute_reply.started": "2024-10-05T20:06:03.425828Z",
          "shell.execute_reply": "2024-10-05T20:06:17.246413Z"
        },
        "trusted": true,
        "colab": {
          "base_uri": "https://localhost:8080/"
        },
        "id": "oe-ZqbUkVBdF",
        "outputId": "aebf9511-2f93-4d9e-8121-e7d4e8631927"
      },
      "execution_count": null,
      "outputs": [
        {
          "output_type": "stream",
          "name": "stdout",
          "text": [
            "Requirement already satisfied: pandas in /usr/local/lib/python3.10/dist-packages (2.2.2)\n",
            "Requirement already satisfied: numpy in /usr/local/lib/python3.10/dist-packages (1.26.4)\n",
            "Requirement already satisfied: seaborn in /usr/local/lib/python3.10/dist-packages (0.13.1)\n",
            "Requirement already satisfied: matplotlib in /usr/local/lib/python3.10/dist-packages (3.7.1)\n",
            "Requirement already satisfied: scikit-learn in /usr/local/lib/python3.10/dist-packages (1.5.2)\n",
            "Requirement already satisfied: torch in /usr/local/lib/python3.10/dist-packages (2.4.1+cu121)\n",
            "Requirement already satisfied: transformers in /usr/local/lib/python3.10/dist-packages (4.44.2)\n",
            "Collecting datasets\n",
            "  Downloading datasets-3.0.1-py3-none-any.whl.metadata (20 kB)\n",
            "Collecting evaluate\n",
            "  Downloading evaluate-0.4.3-py3-none-any.whl.metadata (9.2 kB)\n",
            "Requirement already satisfied: python-dateutil>=2.8.2 in /usr/local/lib/python3.10/dist-packages (from pandas) (2.8.2)\n",
            "Requirement already satisfied: pytz>=2020.1 in /usr/local/lib/python3.10/dist-packages (from pandas) (2024.2)\n",
            "Requirement already satisfied: tzdata>=2022.7 in /usr/local/lib/python3.10/dist-packages (from pandas) (2024.2)\n",
            "Requirement already satisfied: contourpy>=1.0.1 in /usr/local/lib/python3.10/dist-packages (from matplotlib) (1.3.0)\n",
            "Requirement already satisfied: cycler>=0.10 in /usr/local/lib/python3.10/dist-packages (from matplotlib) (0.12.1)\n",
            "Requirement already satisfied: fonttools>=4.22.0 in /usr/local/lib/python3.10/dist-packages (from matplotlib) (4.54.1)\n",
            "Requirement already satisfied: kiwisolver>=1.0.1 in /usr/local/lib/python3.10/dist-packages (from matplotlib) (1.4.7)\n",
            "Requirement already satisfied: packaging>=20.0 in /usr/local/lib/python3.10/dist-packages (from matplotlib) (24.1)\n",
            "Requirement already satisfied: pillow>=6.2.0 in /usr/local/lib/python3.10/dist-packages (from matplotlib) (10.4.0)\n",
            "Requirement already satisfied: pyparsing>=2.3.1 in /usr/local/lib/python3.10/dist-packages (from matplotlib) (3.1.4)\n",
            "Requirement already satisfied: scipy>=1.6.0 in /usr/local/lib/python3.10/dist-packages (from scikit-learn) (1.13.1)\n",
            "Requirement already satisfied: joblib>=1.2.0 in /usr/local/lib/python3.10/dist-packages (from scikit-learn) (1.4.2)\n",
            "Requirement already satisfied: threadpoolctl>=3.1.0 in /usr/local/lib/python3.10/dist-packages (from scikit-learn) (3.5.0)\n",
            "Requirement already satisfied: filelock in /usr/local/lib/python3.10/dist-packages (from torch) (3.16.1)\n",
            "Requirement already satisfied: typing-extensions>=4.8.0 in /usr/local/lib/python3.10/dist-packages (from torch) (4.12.2)\n",
            "Requirement already satisfied: sympy in /usr/local/lib/python3.10/dist-packages (from torch) (1.13.3)\n",
            "Requirement already satisfied: networkx in /usr/local/lib/python3.10/dist-packages (from torch) (3.3)\n",
            "Requirement already satisfied: jinja2 in /usr/local/lib/python3.10/dist-packages (from torch) (3.1.4)\n",
            "Requirement already satisfied: fsspec in /usr/local/lib/python3.10/dist-packages (from torch) (2024.6.1)\n",
            "Requirement already satisfied: huggingface-hub<1.0,>=0.23.2 in /usr/local/lib/python3.10/dist-packages (from transformers) (0.24.7)\n",
            "Requirement already satisfied: pyyaml>=5.1 in /usr/local/lib/python3.10/dist-packages (from transformers) (6.0.2)\n",
            "Requirement already satisfied: regex!=2019.12.17 in /usr/local/lib/python3.10/dist-packages (from transformers) (2024.9.11)\n",
            "Requirement already satisfied: requests in /usr/local/lib/python3.10/dist-packages (from transformers) (2.32.3)\n",
            "Requirement already satisfied: safetensors>=0.4.1 in /usr/local/lib/python3.10/dist-packages (from transformers) (0.4.5)\n",
            "Requirement already satisfied: tokenizers<0.20,>=0.19 in /usr/local/lib/python3.10/dist-packages (from transformers) (0.19.1)\n",
            "Requirement already satisfied: tqdm>=4.27 in /usr/local/lib/python3.10/dist-packages (from transformers) (4.66.5)\n",
            "Requirement already satisfied: pyarrow>=15.0.0 in /usr/local/lib/python3.10/dist-packages (from datasets) (16.1.0)\n",
            "Collecting dill<0.3.9,>=0.3.0 (from datasets)\n",
            "  Downloading dill-0.3.8-py3-none-any.whl.metadata (10 kB)\n",
            "Collecting xxhash (from datasets)\n",
            "  Downloading xxhash-3.5.0-cp310-cp310-manylinux_2_17_x86_64.manylinux2014_x86_64.whl.metadata (12 kB)\n",
            "Collecting multiprocess (from datasets)\n",
            "  Downloading multiprocess-0.70.17-py310-none-any.whl.metadata (7.2 kB)\n",
            "Requirement already satisfied: aiohttp in /usr/local/lib/python3.10/dist-packages (from datasets) (3.10.8)\n",
            "Requirement already satisfied: aiohappyeyeballs>=2.3.0 in /usr/local/lib/python3.10/dist-packages (from aiohttp->datasets) (2.4.3)\n",
            "Requirement already satisfied: aiosignal>=1.1.2 in /usr/local/lib/python3.10/dist-packages (from aiohttp->datasets) (1.3.1)\n",
            "Requirement already satisfied: attrs>=17.3.0 in /usr/local/lib/python3.10/dist-packages (from aiohttp->datasets) (24.2.0)\n",
            "Requirement already satisfied: frozenlist>=1.1.1 in /usr/local/lib/python3.10/dist-packages (from aiohttp->datasets) (1.4.1)\n",
            "Requirement already satisfied: multidict<7.0,>=4.5 in /usr/local/lib/python3.10/dist-packages (from aiohttp->datasets) (6.1.0)\n",
            "Requirement already satisfied: yarl<2.0,>=1.12.0 in /usr/local/lib/python3.10/dist-packages (from aiohttp->datasets) (1.13.1)\n",
            "Requirement already satisfied: async-timeout<5.0,>=4.0 in /usr/local/lib/python3.10/dist-packages (from aiohttp->datasets) (4.0.3)\n",
            "Requirement already satisfied: six>=1.5 in /usr/local/lib/python3.10/dist-packages (from python-dateutil>=2.8.2->pandas) (1.16.0)\n",
            "Requirement already satisfied: charset-normalizer<4,>=2 in /usr/local/lib/python3.10/dist-packages (from requests->transformers) (3.3.2)\n",
            "Requirement already satisfied: idna<4,>=2.5 in /usr/local/lib/python3.10/dist-packages (from requests->transformers) (3.10)\n",
            "Requirement already satisfied: urllib3<3,>=1.21.1 in /usr/local/lib/python3.10/dist-packages (from requests->transformers) (2.2.3)\n",
            "Requirement already satisfied: certifi>=2017.4.17 in /usr/local/lib/python3.10/dist-packages (from requests->transformers) (2024.8.30)\n",
            "Requirement already satisfied: MarkupSafe>=2.0 in /usr/local/lib/python3.10/dist-packages (from jinja2->torch) (2.1.5)\n",
            "INFO: pip is looking at multiple versions of multiprocess to determine which version is compatible with other requirements. This could take a while.\n",
            "  Downloading multiprocess-0.70.16-py310-none-any.whl.metadata (7.2 kB)\n",
            "Requirement already satisfied: mpmath<1.4,>=1.1.0 in /usr/local/lib/python3.10/dist-packages (from sympy->torch) (1.3.0)\n",
            "Downloading datasets-3.0.1-py3-none-any.whl (471 kB)\n",
            "\u001b[2K   \u001b[90m━━━━━━━━━━━━━━━━━━━━━━━━━━━━━━━━━━━━━━━━\u001b[0m \u001b[32m471.6/471.6 kB\u001b[0m \u001b[31m33.3 MB/s\u001b[0m eta \u001b[36m0:00:00\u001b[0m\n",
            "\u001b[?25hDownloading evaluate-0.4.3-py3-none-any.whl (84 kB)\n",
            "\u001b[2K   \u001b[90m━━━━━━━━━━━━━━━━━━━━━━━━━━━━━━━━━━━━━━━━\u001b[0m \u001b[32m84.0/84.0 kB\u001b[0m \u001b[31m8.6 MB/s\u001b[0m eta \u001b[36m0:00:00\u001b[0m\n",
            "\u001b[?25hDownloading dill-0.3.8-py3-none-any.whl (116 kB)\n",
            "\u001b[2K   \u001b[90m━━━━━━━━━━━━━━━━━━━━━━━━━━━━━━━━━━━━━━━━\u001b[0m \u001b[32m116.3/116.3 kB\u001b[0m \u001b[31m11.8 MB/s\u001b[0m eta \u001b[36m0:00:00\u001b[0m\n",
            "\u001b[?25hDownloading multiprocess-0.70.16-py310-none-any.whl (134 kB)\n",
            "\u001b[2K   \u001b[90m━━━━━━━━━━━━━━━━━━━━━━━━━━━━━━━━━━━━━━━━\u001b[0m \u001b[32m134.8/134.8 kB\u001b[0m \u001b[31m12.8 MB/s\u001b[0m eta \u001b[36m0:00:00\u001b[0m\n",
            "\u001b[?25hDownloading xxhash-3.5.0-cp310-cp310-manylinux_2_17_x86_64.manylinux2014_x86_64.whl (194 kB)\n",
            "\u001b[2K   \u001b[90m━━━━━━━━━━━━━━━━━━━━━━━━━━━━━━━━━━━━━━━━\u001b[0m \u001b[32m194.1/194.1 kB\u001b[0m \u001b[31m19.9 MB/s\u001b[0m eta \u001b[36m0:00:00\u001b[0m\n",
            "\u001b[?25hInstalling collected packages: xxhash, dill, multiprocess, datasets, evaluate\n",
            "Successfully installed datasets-3.0.1 dill-0.3.8 evaluate-0.4.3 multiprocess-0.70.16 xxhash-3.5.0\n"
          ]
        }
      ],
      "id": "oe-ZqbUkVBdF"
    },
    {
      "cell_type": "code",
      "source": [
        "import pandas as pd\n",
        "import numpy as np\n",
        "import seaborn as sns\n",
        "import matplotlib.pyplot as plt\n",
        "\n",
        "from sklearn.model_selection import train_test_split\n",
        "from sklearn.preprocessing import LabelEncoder\n",
        "\n",
        "import torch\n",
        "from transformers import DistilBertTokenizer, DistilBertForSequenceClassification, Trainer, TrainingArguments\n",
        "from datasets import Dataset, DatasetDict\n",
        "from evaluate import load\n",
        "from transformers import pipeline"
      ],
      "metadata": {
        "_cell_guid": "b1076dfc-b9ad-4769-8c92-a6c4dae69d19",
        "_uuid": "8f2839f25d086af736a60e9eeb907d3b93b6e0e5",
        "papermill": {
          "duration": 32.774369,
          "end_time": "2024-09-11T13:58:24.249007",
          "exception": false,
          "start_time": "2024-09-11T13:57:51.474638",
          "status": "completed"
        },
        "tags": [],
        "execution": {
          "iopub.status.busy": "2024-10-05T20:06:21.948078Z",
          "iopub.execute_input": "2024-10-05T20:06:21.948551Z",
          "iopub.status.idle": "2024-10-05T20:06:21.955722Z",
          "shell.execute_reply.started": "2024-10-05T20:06:21.948496Z",
          "shell.execute_reply": "2024-10-05T20:06:21.954446Z"
        },
        "trusted": true,
        "id": "aYSAahNKVBdG"
      },
      "execution_count": null,
      "outputs": [],
      "id": "aYSAahNKVBdG"
    },
    {
      "cell_type": "code",
      "source": [
        "# Check if GPU is available\n",
        "device = torch.device(\"cuda\" if torch.cuda.is_available() else \"cpu\")"
      ],
      "metadata": {
        "papermill": {
          "duration": 0.093633,
          "end_time": "2024-09-11T13:58:24.352117",
          "exception": false,
          "start_time": "2024-09-11T13:58:24.258484",
          "status": "completed"
        },
        "tags": [],
        "execution": {
          "iopub.status.busy": "2024-10-05T20:06:25.470586Z",
          "iopub.execute_input": "2024-10-05T20:06:25.471406Z",
          "iopub.status.idle": "2024-10-05T20:06:25.476165Z",
          "shell.execute_reply.started": "2024-10-05T20:06:25.471357Z",
          "shell.execute_reply": "2024-10-05T20:06:25.475103Z"
        },
        "trusted": true,
        "id": "h8ZPCyD4VBdG"
      },
      "execution_count": null,
      "outputs": [],
      "id": "h8ZPCyD4VBdG"
    },
    {
      "cell_type": "markdown",
      "source": [
        "# Loading Dataset & EDA"
      ],
      "metadata": {
        "papermill": {
          "duration": 0.008702,
          "end_time": "2024-09-11T13:58:24.370979",
          "exception": false,
          "start_time": "2024-09-11T13:58:24.362277",
          "status": "completed"
        },
        "tags": [],
        "id": "7qG20-BdVBdI"
      },
      "id": "7qG20-BdVBdI"
    },
    {
      "cell_type": "code",
      "source": [
        "df = pd.read_csv(\"/content/IMDB Dataset.csv\")\n",
        "df.sample(5)"
      ],
      "metadata": {
        "papermill": {
          "duration": 1.735117,
          "end_time": "2024-09-11T13:58:26.114902",
          "exception": false,
          "start_time": "2024-09-11T13:58:24.379785",
          "status": "completed"
        },
        "tags": [],
        "execution": {
          "iopub.status.busy": "2024-10-05T20:12:19.771249Z",
          "iopub.execute_input": "2024-10-05T20:12:19.771777Z",
          "iopub.status.idle": "2024-10-05T20:12:21.29707Z",
          "shell.execute_reply.started": "2024-10-05T20:12:19.771726Z",
          "shell.execute_reply": "2024-10-05T20:12:21.295716Z"
        },
        "trusted": true,
        "colab": {
          "base_uri": "https://localhost:8080/",
          "height": 206
        },
        "id": "TMdkBG8kVBdI",
        "outputId": "c483c57a-f08f-46af-a445-cd2dddd3ff7c"
      },
      "execution_count": null,
      "outputs": [
        {
          "output_type": "execute_result",
          "data": {
            "text/plain": [
              "                                                  review sentiment\n",
              "24380  Two great stars and a legendary Director creat...  positive\n",
              "21657  ...there was \"Broadcast News,\" and what a good...  positive\n",
              "22131  ...from this awful movie! There are so many th...  negative\n",
              "31224  Billed as the story of Steve Biko -- played ex...  positive\n",
              "37406  - SMALL SPOILER HEREIN! - <br /><br />When I l...  positive"
            ],
            "text/html": [
              "\n",
              "  <div id=\"df-23437f72-c41b-45dd-bad5-efc5bb5a5274\" class=\"colab-df-container\">\n",
              "    <div>\n",
              "<style scoped>\n",
              "    .dataframe tbody tr th:only-of-type {\n",
              "        vertical-align: middle;\n",
              "    }\n",
              "\n",
              "    .dataframe tbody tr th {\n",
              "        vertical-align: top;\n",
              "    }\n",
              "\n",
              "    .dataframe thead th {\n",
              "        text-align: right;\n",
              "    }\n",
              "</style>\n",
              "<table border=\"1\" class=\"dataframe\">\n",
              "  <thead>\n",
              "    <tr style=\"text-align: right;\">\n",
              "      <th></th>\n",
              "      <th>review</th>\n",
              "      <th>sentiment</th>\n",
              "    </tr>\n",
              "  </thead>\n",
              "  <tbody>\n",
              "    <tr>\n",
              "      <th>24380</th>\n",
              "      <td>Two great stars and a legendary Director creat...</td>\n",
              "      <td>positive</td>\n",
              "    </tr>\n",
              "    <tr>\n",
              "      <th>21657</th>\n",
              "      <td>...there was \"Broadcast News,\" and what a good...</td>\n",
              "      <td>positive</td>\n",
              "    </tr>\n",
              "    <tr>\n",
              "      <th>22131</th>\n",
              "      <td>...from this awful movie! There are so many th...</td>\n",
              "      <td>negative</td>\n",
              "    </tr>\n",
              "    <tr>\n",
              "      <th>31224</th>\n",
              "      <td>Billed as the story of Steve Biko -- played ex...</td>\n",
              "      <td>positive</td>\n",
              "    </tr>\n",
              "    <tr>\n",
              "      <th>37406</th>\n",
              "      <td>- SMALL SPOILER HEREIN! - &lt;br /&gt;&lt;br /&gt;When I l...</td>\n",
              "      <td>positive</td>\n",
              "    </tr>\n",
              "  </tbody>\n",
              "</table>\n",
              "</div>\n",
              "    <div class=\"colab-df-buttons\">\n",
              "\n",
              "  <div class=\"colab-df-container\">\n",
              "    <button class=\"colab-df-convert\" onclick=\"convertToInteractive('df-23437f72-c41b-45dd-bad5-efc5bb5a5274')\"\n",
              "            title=\"Convert this dataframe to an interactive table.\"\n",
              "            style=\"display:none;\">\n",
              "\n",
              "  <svg xmlns=\"http://www.w3.org/2000/svg\" height=\"24px\" viewBox=\"0 -960 960 960\">\n",
              "    <path d=\"M120-120v-720h720v720H120Zm60-500h600v-160H180v160Zm220 220h160v-160H400v160Zm0 220h160v-160H400v160ZM180-400h160v-160H180v160Zm440 0h160v-160H620v160ZM180-180h160v-160H180v160Zm440 0h160v-160H620v160Z\"/>\n",
              "  </svg>\n",
              "    </button>\n",
              "\n",
              "  <style>\n",
              "    .colab-df-container {\n",
              "      display:flex;\n",
              "      gap: 12px;\n",
              "    }\n",
              "\n",
              "    .colab-df-convert {\n",
              "      background-color: #E8F0FE;\n",
              "      border: none;\n",
              "      border-radius: 50%;\n",
              "      cursor: pointer;\n",
              "      display: none;\n",
              "      fill: #1967D2;\n",
              "      height: 32px;\n",
              "      padding: 0 0 0 0;\n",
              "      width: 32px;\n",
              "    }\n",
              "\n",
              "    .colab-df-convert:hover {\n",
              "      background-color: #E2EBFA;\n",
              "      box-shadow: 0px 1px 2px rgba(60, 64, 67, 0.3), 0px 1px 3px 1px rgba(60, 64, 67, 0.15);\n",
              "      fill: #174EA6;\n",
              "    }\n",
              "\n",
              "    .colab-df-buttons div {\n",
              "      margin-bottom: 4px;\n",
              "    }\n",
              "\n",
              "    [theme=dark] .colab-df-convert {\n",
              "      background-color: #3B4455;\n",
              "      fill: #D2E3FC;\n",
              "    }\n",
              "\n",
              "    [theme=dark] .colab-df-convert:hover {\n",
              "      background-color: #434B5C;\n",
              "      box-shadow: 0px 1px 3px 1px rgba(0, 0, 0, 0.15);\n",
              "      filter: drop-shadow(0px 1px 2px rgba(0, 0, 0, 0.3));\n",
              "      fill: #FFFFFF;\n",
              "    }\n",
              "  </style>\n",
              "\n",
              "    <script>\n",
              "      const buttonEl =\n",
              "        document.querySelector('#df-23437f72-c41b-45dd-bad5-efc5bb5a5274 button.colab-df-convert');\n",
              "      buttonEl.style.display =\n",
              "        google.colab.kernel.accessAllowed ? 'block' : 'none';\n",
              "\n",
              "      async function convertToInteractive(key) {\n",
              "        const element = document.querySelector('#df-23437f72-c41b-45dd-bad5-efc5bb5a5274');\n",
              "        const dataTable =\n",
              "          await google.colab.kernel.invokeFunction('convertToInteractive',\n",
              "                                                    [key], {});\n",
              "        if (!dataTable) return;\n",
              "\n",
              "        const docLinkHtml = 'Like what you see? Visit the ' +\n",
              "          '<a target=\"_blank\" href=https://colab.research.google.com/notebooks/data_table.ipynb>data table notebook</a>'\n",
              "          + ' to learn more about interactive tables.';\n",
              "        element.innerHTML = '';\n",
              "        dataTable['output_type'] = 'display_data';\n",
              "        await google.colab.output.renderOutput(dataTable, element);\n",
              "        const docLink = document.createElement('div');\n",
              "        docLink.innerHTML = docLinkHtml;\n",
              "        element.appendChild(docLink);\n",
              "      }\n",
              "    </script>\n",
              "  </div>\n",
              "\n",
              "\n",
              "<div id=\"df-3b37571a-15a0-4ea4-89a3-5ac24ac39019\">\n",
              "  <button class=\"colab-df-quickchart\" onclick=\"quickchart('df-3b37571a-15a0-4ea4-89a3-5ac24ac39019')\"\n",
              "            title=\"Suggest charts\"\n",
              "            style=\"display:none;\">\n",
              "\n",
              "<svg xmlns=\"http://www.w3.org/2000/svg\" height=\"24px\"viewBox=\"0 0 24 24\"\n",
              "     width=\"24px\">\n",
              "    <g>\n",
              "        <path d=\"M19 3H5c-1.1 0-2 .9-2 2v14c0 1.1.9 2 2 2h14c1.1 0 2-.9 2-2V5c0-1.1-.9-2-2-2zM9 17H7v-7h2v7zm4 0h-2V7h2v10zm4 0h-2v-4h2v4z\"/>\n",
              "    </g>\n",
              "</svg>\n",
              "  </button>\n",
              "\n",
              "<style>\n",
              "  .colab-df-quickchart {\n",
              "      --bg-color: #E8F0FE;\n",
              "      --fill-color: #1967D2;\n",
              "      --hover-bg-color: #E2EBFA;\n",
              "      --hover-fill-color: #174EA6;\n",
              "      --disabled-fill-color: #AAA;\n",
              "      --disabled-bg-color: #DDD;\n",
              "  }\n",
              "\n",
              "  [theme=dark] .colab-df-quickchart {\n",
              "      --bg-color: #3B4455;\n",
              "      --fill-color: #D2E3FC;\n",
              "      --hover-bg-color: #434B5C;\n",
              "      --hover-fill-color: #FFFFFF;\n",
              "      --disabled-bg-color: #3B4455;\n",
              "      --disabled-fill-color: #666;\n",
              "  }\n",
              "\n",
              "  .colab-df-quickchart {\n",
              "    background-color: var(--bg-color);\n",
              "    border: none;\n",
              "    border-radius: 50%;\n",
              "    cursor: pointer;\n",
              "    display: none;\n",
              "    fill: var(--fill-color);\n",
              "    height: 32px;\n",
              "    padding: 0;\n",
              "    width: 32px;\n",
              "  }\n",
              "\n",
              "  .colab-df-quickchart:hover {\n",
              "    background-color: var(--hover-bg-color);\n",
              "    box-shadow: 0 1px 2px rgba(60, 64, 67, 0.3), 0 1px 3px 1px rgba(60, 64, 67, 0.15);\n",
              "    fill: var(--button-hover-fill-color);\n",
              "  }\n",
              "\n",
              "  .colab-df-quickchart-complete:disabled,\n",
              "  .colab-df-quickchart-complete:disabled:hover {\n",
              "    background-color: var(--disabled-bg-color);\n",
              "    fill: var(--disabled-fill-color);\n",
              "    box-shadow: none;\n",
              "  }\n",
              "\n",
              "  .colab-df-spinner {\n",
              "    border: 2px solid var(--fill-color);\n",
              "    border-color: transparent;\n",
              "    border-bottom-color: var(--fill-color);\n",
              "    animation:\n",
              "      spin 1s steps(1) infinite;\n",
              "  }\n",
              "\n",
              "  @keyframes spin {\n",
              "    0% {\n",
              "      border-color: transparent;\n",
              "      border-bottom-color: var(--fill-color);\n",
              "      border-left-color: var(--fill-color);\n",
              "    }\n",
              "    20% {\n",
              "      border-color: transparent;\n",
              "      border-left-color: var(--fill-color);\n",
              "      border-top-color: var(--fill-color);\n",
              "    }\n",
              "    30% {\n",
              "      border-color: transparent;\n",
              "      border-left-color: var(--fill-color);\n",
              "      border-top-color: var(--fill-color);\n",
              "      border-right-color: var(--fill-color);\n",
              "    }\n",
              "    40% {\n",
              "      border-color: transparent;\n",
              "      border-right-color: var(--fill-color);\n",
              "      border-top-color: var(--fill-color);\n",
              "    }\n",
              "    60% {\n",
              "      border-color: transparent;\n",
              "      border-right-color: var(--fill-color);\n",
              "    }\n",
              "    80% {\n",
              "      border-color: transparent;\n",
              "      border-right-color: var(--fill-color);\n",
              "      border-bottom-color: var(--fill-color);\n",
              "    }\n",
              "    90% {\n",
              "      border-color: transparent;\n",
              "      border-bottom-color: var(--fill-color);\n",
              "    }\n",
              "  }\n",
              "</style>\n",
              "\n",
              "  <script>\n",
              "    async function quickchart(key) {\n",
              "      const quickchartButtonEl =\n",
              "        document.querySelector('#' + key + ' button');\n",
              "      quickchartButtonEl.disabled = true;  // To prevent multiple clicks.\n",
              "      quickchartButtonEl.classList.add('colab-df-spinner');\n",
              "      try {\n",
              "        const charts = await google.colab.kernel.invokeFunction(\n",
              "            'suggestCharts', [key], {});\n",
              "      } catch (error) {\n",
              "        console.error('Error during call to suggestCharts:', error);\n",
              "      }\n",
              "      quickchartButtonEl.classList.remove('colab-df-spinner');\n",
              "      quickchartButtonEl.classList.add('colab-df-quickchart-complete');\n",
              "    }\n",
              "    (() => {\n",
              "      let quickchartButtonEl =\n",
              "        document.querySelector('#df-3b37571a-15a0-4ea4-89a3-5ac24ac39019 button');\n",
              "      quickchartButtonEl.style.display =\n",
              "        google.colab.kernel.accessAllowed ? 'block' : 'none';\n",
              "    })();\n",
              "  </script>\n",
              "</div>\n",
              "\n",
              "    </div>\n",
              "  </div>\n"
            ],
            "application/vnd.google.colaboratory.intrinsic+json": {
              "type": "dataframe",
              "summary": "{\n  \"name\": \"df\",\n  \"rows\": 5,\n  \"fields\": [\n    {\n      \"column\": \"review\",\n      \"properties\": {\n        \"dtype\": \"string\",\n        \"num_unique_values\": 5,\n        \"samples\": [\n          \"...there was \\\"Broadcast News,\\\" and what a good thing it was. This one just plain stands up and sounds its barbaric yawp in a manner that resonates two decades later.<br /><br />There are moments -- especially with respect to the cutesy score -- when this film becomes a bit too eighties, or a bit too \\\"Sleepless in Seattle.\\\" Fortunately, they're few and far between.<br /><br />One-third social satire, one-third romantic comedy, one-third drama, with three flawed but endearing people at its core, it's smart and moving and almost impossibly funny. Holly Hunter in particular may never have been more fun to watch in a comedic role. (And yes, I'm including \\\"Raising Arizona,\\\" her other star turn from that era, in this assessment.)<br /><br />A legitimate classic.\",\n          \"- SMALL SPOILER HEREIN! - <br /><br />When I looked at the votes for \\\"Creep\\\" today, I was surprised about so many IMDb-users rating this movie \\\"1\\\". I am wondering: what do people expect of such kind of movie? Are there so many people watching a movie without knowing anything about it?<br /><br />\\\"Creep\\\" is a HORROR movie and it is a pretty good one! This automatically means: it has a absurd story full of holes, outrageous hazards and simple one-side-characters. So why complain about it? Just take some popcorn and coke, make yourself comfortable in your seat and then... ...enjoy to be scared to death! The first 60 minutes when there is almost nothing else than Kate and a lonely subway station are incredibly scaring. There is suspense and fear in every corner of the screen and you will give some jerks just because of a sudden sound of a blinking neon lamp in the back of you. (In my opinion the sound editor did the best job in this movie.)<br /><br />When Kate meet her pursuer the quality of the movie drops but it still doesn't become a bad movie. The second part of the movie is not scary at all, but the gore effects are well done and the story is quite well developed. (...as long as you keep in mind that it is a horror movie you are watching and not the Discovery Channel!) So, if you want to make yourself a very, very scaring hour. Just watch the first hour of \\\"Creep\\\" and then leave the cinema or turn of your TV. You know the rest of the story anyway, don't you? The bad guy will die and Kate will be the only survivor. But even if you watch this movie up to its end, you will not be disappointed.<br /><br />...and if you want to push anxiety to the next level, do what I did after watching this movie: leave the cinema by dark night, go to the next subway station and take the last train home...\",\n          \"...from this awful movie! There are so many things wrong with this film, acting, writing, direction, editing, etc. that it's amazing that something rises to the top and proves itself to be the absolute worst. The music! I noted that the film has two composers listed. This must be the reason why every single frame has music, of the absolute worst \\\"D\\\" movie style drivel. They have never heard of the expression \\\"less is more\\\". It got so painful to listen to, I muted the sound every time there was no dialogue, not that the dialogue was that good. You have to feel sorry for Robert Wagner and Tom Bosley, I'm sure they didn't see roles like this in the twilight of their careers. See it at your own risk.\"\n        ],\n        \"semantic_type\": \"\",\n        \"description\": \"\"\n      }\n    },\n    {\n      \"column\": \"sentiment\",\n      \"properties\": {\n        \"dtype\": \"category\",\n        \"num_unique_values\": 2,\n        \"samples\": [\n          \"negative\",\n          \"positive\"\n        ],\n        \"semantic_type\": \"\",\n        \"description\": \"\"\n      }\n    }\n  ]\n}"
            }
          },
          "metadata": {},
          "execution_count": 7
        }
      ],
      "id": "TMdkBG8kVBdI"
    },
    {
      "cell_type": "code",
      "source": [
        "df.shape"
      ],
      "metadata": {
        "papermill": {
          "duration": 0.017252,
          "end_time": "2024-09-11T13:58:26.141235",
          "exception": false,
          "start_time": "2024-09-11T13:58:26.123983",
          "status": "completed"
        },
        "tags": [],
        "execution": {
          "iopub.status.busy": "2024-10-05T20:12:33.941371Z",
          "iopub.execute_input": "2024-10-05T20:12:33.942211Z",
          "iopub.status.idle": "2024-10-05T20:12:33.949046Z",
          "shell.execute_reply.started": "2024-10-05T20:12:33.942166Z",
          "shell.execute_reply": "2024-10-05T20:12:33.947921Z"
        },
        "trusted": true,
        "colab": {
          "base_uri": "https://localhost:8080/"
        },
        "id": "1nylrwKaVBdJ",
        "outputId": "eb7b468c-4ebe-4ed2-bcfc-388f597eb4de"
      },
      "execution_count": null,
      "outputs": [
        {
          "output_type": "execute_result",
          "data": {
            "text/plain": [
              "(50000, 2)"
            ]
          },
          "metadata": {},
          "execution_count": 8
        }
      ],
      "id": "1nylrwKaVBdJ"
    },
    {
      "cell_type": "code",
      "source": [
        "df.info()"
      ],
      "metadata": {
        "papermill": {
          "duration": 0.052458,
          "end_time": "2024-09-11T13:58:26.202911",
          "exception": false,
          "start_time": "2024-09-11T13:58:26.150453",
          "status": "completed"
        },
        "tags": [],
        "execution": {
          "iopub.status.busy": "2024-10-05T20:12:38.472327Z",
          "iopub.execute_input": "2024-10-05T20:12:38.472799Z",
          "iopub.status.idle": "2024-10-05T20:12:38.522698Z",
          "shell.execute_reply.started": "2024-10-05T20:12:38.472748Z",
          "shell.execute_reply": "2024-10-05T20:12:38.521402Z"
        },
        "trusted": true,
        "colab": {
          "base_uri": "https://localhost:8080/"
        },
        "id": "dpNO2ZsWVBdJ",
        "outputId": "a6bbeae5-cfc9-413e-869f-1f4518791df4"
      },
      "execution_count": null,
      "outputs": [
        {
          "output_type": "stream",
          "name": "stdout",
          "text": [
            "<class 'pandas.core.frame.DataFrame'>\n",
            "RangeIndex: 50000 entries, 0 to 49999\n",
            "Data columns (total 2 columns):\n",
            " #   Column     Non-Null Count  Dtype \n",
            "---  ------     --------------  ----- \n",
            " 0   review     50000 non-null  object\n",
            " 1   sentiment  50000 non-null  object\n",
            "dtypes: object(2)\n",
            "memory usage: 781.4+ KB\n"
          ]
        }
      ],
      "id": "dpNO2ZsWVBdJ"
    },
    {
      "cell_type": "code",
      "source": [
        "df.isna().sum()"
      ],
      "metadata": {
        "papermill": {
          "duration": 0.030734,
          "end_time": "2024-09-11T13:58:26.242698",
          "exception": false,
          "start_time": "2024-09-11T13:58:26.211964",
          "status": "completed"
        },
        "tags": [],
        "execution": {
          "iopub.status.busy": "2024-10-05T20:12:47.456564Z",
          "iopub.execute_input": "2024-10-05T20:12:47.457428Z",
          "iopub.status.idle": "2024-10-05T20:12:47.478883Z",
          "shell.execute_reply.started": "2024-10-05T20:12:47.457386Z",
          "shell.execute_reply": "2024-10-05T20:12:47.477723Z"
        },
        "trusted": true,
        "colab": {
          "base_uri": "https://localhost:8080/",
          "height": 147
        },
        "id": "Yv7YJOp0VBdJ",
        "outputId": "5b84069e-9afc-4883-f2c2-0de8a2873619"
      },
      "execution_count": null,
      "outputs": [
        {
          "output_type": "execute_result",
          "data": {
            "text/plain": [
              "review       0\n",
              "sentiment    0\n",
              "dtype: int64"
            ],
            "text/html": [
              "<div>\n",
              "<style scoped>\n",
              "    .dataframe tbody tr th:only-of-type {\n",
              "        vertical-align: middle;\n",
              "    }\n",
              "\n",
              "    .dataframe tbody tr th {\n",
              "        vertical-align: top;\n",
              "    }\n",
              "\n",
              "    .dataframe thead th {\n",
              "        text-align: right;\n",
              "    }\n",
              "</style>\n",
              "<table border=\"1\" class=\"dataframe\">\n",
              "  <thead>\n",
              "    <tr style=\"text-align: right;\">\n",
              "      <th></th>\n",
              "      <th>0</th>\n",
              "    </tr>\n",
              "  </thead>\n",
              "  <tbody>\n",
              "    <tr>\n",
              "      <th>review</th>\n",
              "      <td>0</td>\n",
              "    </tr>\n",
              "    <tr>\n",
              "      <th>sentiment</th>\n",
              "      <td>0</td>\n",
              "    </tr>\n",
              "  </tbody>\n",
              "</table>\n",
              "</div><br><label><b>dtype:</b> int64</label>"
            ]
          },
          "metadata": {},
          "execution_count": 11
        }
      ],
      "id": "Yv7YJOp0VBdJ"
    },
    {
      "cell_type": "markdown",
      "source": [
        "## Visualising Target Values"
      ],
      "metadata": {
        "papermill": {
          "duration": 0.009119,
          "end_time": "2024-09-11T13:58:26.261423",
          "exception": false,
          "start_time": "2024-09-11T13:58:26.252304",
          "status": "completed"
        },
        "tags": [],
        "id": "9wSdv3IbVBdK"
      },
      "id": "9wSdv3IbVBdK"
    },
    {
      "cell_type": "code",
      "source": [
        "df['sentiment'].unique()"
      ],
      "metadata": {
        "papermill": {
          "duration": 0.020876,
          "end_time": "2024-09-11T13:58:26.29159",
          "exception": false,
          "start_time": "2024-09-11T13:58:26.270714",
          "status": "completed"
        },
        "tags": [],
        "execution": {
          "iopub.status.busy": "2024-10-05T20:12:51.821357Z",
          "iopub.execute_input": "2024-10-05T20:12:51.822445Z",
          "iopub.status.idle": "2024-10-05T20:12:51.834691Z",
          "shell.execute_reply.started": "2024-10-05T20:12:51.822395Z",
          "shell.execute_reply": "2024-10-05T20:12:51.833412Z"
        },
        "trusted": true,
        "colab": {
          "base_uri": "https://localhost:8080/"
        },
        "id": "UmjhlYbrVBdK",
        "outputId": "0d6974dd-7825-4e45-d457-7d85d3eb1403"
      },
      "execution_count": null,
      "outputs": [
        {
          "output_type": "execute_result",
          "data": {
            "text/plain": [
              "array(['positive', 'negative'], dtype=object)"
            ]
          },
          "metadata": {},
          "execution_count": 12
        }
      ],
      "id": "UmjhlYbrVBdK"
    },
    {
      "cell_type": "code",
      "source": [
        "sns.set_style(\"whitegrid\")\n",
        "\n",
        "plt.figure(figsize=(3, 6))\n",
        "sns.countplot(x='sentiment', data=df, palette='Set2')\n",
        "plt.title('Distribution of Sentiment Labels', fontsize=16)\n",
        "plt.xlabel('Sentiment', fontsize=14)\n",
        "plt.ylabel('Count', fontsize=14)\n",
        "plt.xticks(fontsize=12)\n",
        "plt.yticks(fontsize=12)\n",
        "plt.show()"
      ],
      "metadata": {
        "papermill": {
          "duration": 0.370621,
          "end_time": "2024-09-11T13:58:26.671336",
          "exception": false,
          "start_time": "2024-09-11T13:58:26.300715",
          "status": "completed"
        },
        "tags": [],
        "execution": {
          "iopub.status.busy": "2024-10-05T20:12:59.625155Z",
          "iopub.execute_input": "2024-10-05T20:12:59.625506Z",
          "iopub.status.idle": "2024-10-05T20:13:00.035698Z",
          "shell.execute_reply.started": "2024-10-05T20:12:59.625474Z",
          "shell.execute_reply": "2024-10-05T20:13:00.034714Z"
        },
        "trusted": true,
        "colab": {
          "base_uri": "https://localhost:8080/",
          "height": 575
        },
        "id": "D8Zb9qZKVBdK",
        "outputId": "c0b7d907-3d6d-45c1-8a6b-a26db076a2f0"
      },
      "execution_count": null,
      "outputs": [
        {
          "output_type": "display_data",
          "data": {
            "text/plain": [
              "<Figure size 300x600 with 1 Axes>"
            ],
            "image/png": "[encoded data removed]"
          },
          "metadata": {}
        }
      ],
      "id": "D8Zb9qZKVBdK"
    },
    {
      "cell_type": "code",
      "source": [
        "label_counts = df['sentiment'].value_counts()\n",
        "colors = ['#66c2a5', '#fc8d62']\n",
        "\n",
        "plt.figure(figsize=(8, 6))\n",
        "plt.pie(label_counts, labels=label_counts.index, autopct='%1.1f%%', startangle=140, colors=colors)\n",
        "plt.title('Distribution of Sentiment Labels')\n",
        "plt.axis('equal')\n",
        "plt.show()"
      ],
      "metadata": {
        "papermill": {
          "duration": 0.199121,
          "end_time": "2024-09-11T13:58:26.880733",
          "exception": false,
          "start_time": "2024-09-11T13:58:26.681612",
          "status": "completed"
        },
        "tags": [],
        "execution": {
          "iopub.status.busy": "2024-10-05T20:13:05.379247Z",
          "iopub.execute_input": "2024-10-05T20:13:05.37969Z",
          "iopub.status.idle": "2024-10-05T20:13:05.605094Z",
          "shell.execute_reply.started": "2024-10-05T20:13:05.379647Z",
          "shell.execute_reply": "2024-10-05T20:13:05.603421Z"
        },
        "trusted": true,
        "colab": {
          "base_uri": "https://localhost:8080/",
          "height": 521
        },
        "id": "9vQrMb9bVBdL",
        "outputId": "4490556a-3572-43c7-b952-f47aec5cfc6a"
      },
      "execution_count": null,
      "outputs": [
        {
          "output_type": "display_data",
          "data": {
            "text/plain": [
              "<Figure size 800x600 with 1 Axes>"
            ],
            "image/png": "[encoded data removed]"
          },
          "metadata": {}
        }
      ],
      "id": "9vQrMb9bVBdL"
    },
    {
      "cell_type": "markdown",
      "source": [
        "# Model (DistilBERT)"
      ],
      "metadata": {
        "papermill": {
          "duration": 0.020663,
          "end_time": "2024-09-11T13:58:26.922794",
          "exception": false,
          "start_time": "2024-09-11T13:58:26.902131",
          "status": "completed"
        },
        "tags": [],
        "id": "pKgmxrPfVBdL"
      },
      "id": "pKgmxrPfVBdL"
    },
    {
      "cell_type": "markdown",
      "source": [
        "## Preprocessing"
      ],
      "metadata": {
        "papermill": {
          "duration": 0.009872,
          "end_time": "2024-09-11T13:58:26.946636",
          "exception": false,
          "start_time": "2024-09-11T13:58:26.936764",
          "status": "completed"
        },
        "tags": [],
        "id": "og0vdm-XVBdM"
      },
      "id": "og0vdm-XVBdM"
    },
    {
      "cell_type": "markdown",
      "source": [
        "### Label Encoding"
      ],
      "metadata": {
        "papermill": {
          "duration": 0.009855,
          "end_time": "2024-09-11T13:58:26.966566",
          "exception": false,
          "start_time": "2024-09-11T13:58:26.956711",
          "status": "completed"
        },
        "tags": [],
        "id": "GEAzByJyVBdM"
      },
      "id": "GEAzByJyVBdM"
    },
    {
      "cell_type": "code",
      "source": [
        "reviews = df['review'].tolist()\n",
        "labels = df['sentiment'].apply(lambda x: 1 if x == 'positive' else 0).tolist()"
      ],
      "metadata": {
        "papermill": {
          "duration": 0.055636,
          "end_time": "2024-09-11T13:58:27.032372",
          "exception": false,
          "start_time": "2024-09-11T13:58:26.976736",
          "status": "completed"
        },
        "tags": [],
        "execution": {
          "iopub.status.busy": "2024-10-05T20:13:21.040987Z",
          "iopub.execute_input": "2024-10-05T20:13:21.041891Z",
          "iopub.status.idle": "2024-10-05T20:13:21.090928Z",
          "shell.execute_reply.started": "2024-10-05T20:13:21.041831Z",
          "shell.execute_reply": "2024-10-05T20:13:21.089808Z"
        },
        "trusted": true,
        "id": "OakUgbjSVBdN"
      },
      "execution_count": null,
      "outputs": [],
      "id": "OakUgbjSVBdN"
    },
    {
      "cell_type": "markdown",
      "source": [
        "### Splitting the Dataset"
      ],
      "metadata": {
        "papermill": {
          "duration": 0.010103,
          "end_time": "2024-09-11T13:58:27.052534",
          "exception": false,
          "start_time": "2024-09-11T13:58:27.042431",
          "status": "completed"
        },
        "tags": [],
        "id": "i-OFeyYuVBdN"
      },
      "id": "i-OFeyYuVBdN"
    },
    {
      "cell_type": "code",
      "source": [
        "train_reviews, val_reviews, train_labels, val_labels = train_test_split(reviews, labels, test_size=0.2, random_state=42)"
      ],
      "metadata": {
        "papermill": {
          "duration": 0.043068,
          "end_time": "2024-09-11T13:58:27.106189",
          "exception": false,
          "start_time": "2024-09-11T13:58:27.063121",
          "status": "completed"
        },
        "tags": [],
        "execution": {
          "iopub.status.busy": "2024-10-05T20:13:24.746398Z",
          "iopub.execute_input": "2024-10-05T20:13:24.747424Z",
          "iopub.status.idle": "2024-10-05T20:13:24.785652Z",
          "shell.execute_reply.started": "2024-10-05T20:13:24.747368Z",
          "shell.execute_reply": "2024-10-05T20:13:24.784598Z"
        },
        "trusted": true,
        "id": "z2zg6jRTVBdO"
      },
      "execution_count": null,
      "outputs": [],
      "id": "z2zg6jRTVBdO"
    },
    {
      "cell_type": "markdown",
      "source": [
        "### Tokenization"
      ],
      "metadata": {
        "papermill": {
          "duration": 0.009709,
          "end_time": "2024-09-11T13:58:27.12647",
          "exception": false,
          "start_time": "2024-09-11T13:58:27.116761",
          "status": "completed"
        },
        "tags": [],
        "id": "l31MkVQyVBdR"
      },
      "id": "l31MkVQyVBdR"
    },
    {
      "cell_type": "code",
      "source": [
        "tokenizer = DistilBertTokenizer.from_pretrained('distilbert/distilbert-base-uncased-finetuned-sst-2-english')"
      ],
      "metadata": {
        "papermill": {
          "duration": 1.20635,
          "end_time": "2024-09-11T13:58:28.342982",
          "exception": false,
          "start_time": "2024-09-11T13:58:27.136632",
          "status": "completed"
        },
        "tags": [],
        "execution": {
          "iopub.status.busy": "2024-10-05T20:13:30.160136Z",
          "iopub.execute_input": "2024-10-05T20:13:30.160531Z",
          "iopub.status.idle": "2024-10-05T20:13:31.104034Z",
          "shell.execute_reply.started": "2024-10-05T20:13:30.160497Z",
          "shell.execute_reply": "2024-10-05T20:13:31.10285Z"
        },
        "trusted": true,
        "colab": {
          "base_uri": "https://localhost:8080/",
          "height": 113,
          "referenced_widgets": [
            "e4366928d53f458da4dd19ee75b96cdb",
            "7d63154c55be4d6b93e5c3d7465134c3",
            "71bca66147224bca8f65617111e23397",
            "4c540eb8a4d04daf8d466d8e1b9aedf0",
            "b2b29d80ba57474a923cb8594fae6cac",
            "00802527a78f457d89520c47999c86aa",
            "a0293394344f471c85c8db6a58a9ae87",
            "f411a1055d64441c91f1c1ca345a761c",
            "dca69eea4c514cb88250434fd5d68491",
            "c83cea2451c54287aa82c5bda3fb2e48",
            "047024d378d249f0a1bbdfeb7bddbbe3",
            "05439aabc4634b4ab021cb632d97ce52",
            "bf71612d91504d42b2443696d5ca5000",
            "d539a2d6f1a7467db33e35b8393908fc",
            "e40b3cb31907495ba934c4bc8a12feac",
            "53e934c8f13643dea38d829cc937e00d",
            "cddce1f1f25646ce9ca1842e3047b9cf",
            "fd649a567d2045aaa74b259d8db20e6f",
            "cbd6d02a7654475689dbd5dd6cd48723",
            "5cf2b64ac3774d88a5ef88aa3b069734",
            "9ea4f59dcd9643a4b348914ff484acbe",
            "cc95a8c97d0949f183c7dd3a3c977bc3",
            "9c0fef98372747bb926b356ae22fd795",
            "fd009bc605e8427f935c193404a8fe03",
            "acbde8afd1ab4e3ebc1d8756b598ed5f",
            "f3b19129603d4e86947b921be29ed428",
            "c16dd00c408d4b8b860f00622b29dfb9",
            "bdcddf2c5360492990eb26786c374f84",
            "e91b705daae54d9e82563462c591d3dd",
            "c6461bb7e8bb4718a65df7c8ac307275",
            "5864d074dfba401599468b963b26c036",
            "5975d5df8cd3448d979f34a111f5afe0",
            "64a2f0b198494ffc850b4ca2c89b5b60"
          ]
        },
        "id": "7QbO8AuqVBdR",
        "outputId": "8dc88736-b5b2-4f0a-8939-325123324f0e"
      },
      "execution_count": null,
      "outputs": [
        {
          "output_type": "display_data",
          "data": {
            "text/plain": [
              "tokenizer_config.json:   0%|          | 0.00/48.0 [00:00<?, ?B/s]"
            ],
            "application/vnd.jupyter.widget-view+json": {
              "version_major": 2,
              "version_minor": 0,
              "model_id": "e4366928d53f458da4dd19ee75b96cdb"
            }
          },
          "metadata": {}
        },
        {
          "output_type": "display_data",
          "data": {
            "text/plain": [
              "vocab.txt:   0%|          | 0.00/232k [00:00<?, ?B/s]"
            ],
            "application/vnd.jupyter.widget-view+json": {
              "version_major": 2,
              "version_minor": 0,
              "model_id": "05439aabc4634b4ab021cb632d97ce52"
            }
          },
          "metadata": {}
        },
        {
          "output_type": "display_data",
          "data": {
            "text/plain": [
              "config.json:   0%|          | 0.00/629 [00:00<?, ?B/s]"
            ],
            "application/vnd.jupyter.widget-view+json": {
              "version_major": 2,
              "version_minor": 0,
              "model_id": "9c0fef98372747bb926b356ae22fd795"
            }
          },
          "metadata": {}
        }
      ],
      "id": "7QbO8AuqVBdR"
    },
    {
      "cell_type": "code",
      "source": [
        "# Function for tokenizing the reviews\n",
        "\n",
        "def tokenize_function(texts):\n",
        "    return tokenizer(texts, padding=\"max_length\", truncation=True)"
      ],
      "metadata": {
        "papermill": {
          "duration": 0.020909,
          "end_time": "2024-09-11T13:58:28.376662",
          "exception": false,
          "start_time": "2024-09-11T13:58:28.355753",
          "status": "completed"
        },
        "tags": [],
        "execution": {
          "iopub.status.busy": "2024-10-05T20:13:37.073874Z",
          "iopub.execute_input": "2024-10-05T20:13:37.074965Z",
          "iopub.status.idle": "2024-10-05T20:13:37.079823Z",
          "shell.execute_reply.started": "2024-10-05T20:13:37.074902Z",
          "shell.execute_reply": "2024-10-05T20:13:37.078737Z"
        },
        "trusted": true,
        "id": "movTELtiVBdS"
      },
      "execution_count": null,
      "outputs": [],
      "id": "movTELtiVBdS"
    },
    {
      "cell_type": "code",
      "source": [
        "train_encodings = tokenize_function(train_reviews)\n",
        "val_encodings = tokenize_function(val_reviews)"
      ],
      "metadata": {
        "papermill": {
          "duration": 433.401283,
          "end_time": "2024-09-11T14:05:41.790753",
          "exception": false,
          "start_time": "2024-09-11T13:58:28.38947",
          "status": "completed"
        },
        "tags": [],
        "execution": {
          "iopub.status.busy": "2024-10-05T20:13:45.046862Z",
          "iopub.execute_input": "2024-10-05T20:13:45.04782Z"
        },
        "trusted": true,
        "id": "QqJHkKu_VBdS"
      },
      "execution_count": null,
      "outputs": [],
      "id": "QqJHkKu_VBdS"
    },
    {
      "cell_type": "code",
      "source": [
        "# Convert to Hugging Face Dataset format\n",
        "\n",
        "train_dataset = Dataset.from_dict({\n",
        "                                    'input_ids': train_encodings['input_ids'],\n",
        "                                    'attention_mask': train_encodings['attention_mask'],\n",
        "                                    'labels': train_labels\n",
        "                                    })\n",
        "\n",
        "val_dataset = Dataset.from_dict({\n",
        "                                    'input_ids': val_encodings['input_ids'],\n",
        "                                    'attention_mask': val_encodings['attention_mask'],\n",
        "                                    'labels': val_labels\n",
        "                                    })\n",
        "\n",
        "dataset = DatasetDict({\n",
        "                        'train': train_dataset,\n",
        "                        'validation': val_dataset\n",
        "                        })"
      ],
      "metadata": {
        "execution": {
          "iopub.execute_input": "2024-09-11T14:05:41.814149Z",
          "iopub.status.busy": "2024-09-11T14:05:41.813666Z",
          "iopub.status.idle": "2024-09-11T14:05:52.437028Z",
          "shell.execute_reply": "2024-09-11T14:05:52.436267Z"
        },
        "papermill": {
          "duration": 10.637352,
          "end_time": "2024-09-11T14:05:52.439325",
          "exception": false,
          "start_time": "2024-09-11T14:05:41.801973",
          "status": "completed"
        },
        "tags": [],
        "id": "It272ZqRVBdS"
      },
      "execution_count": null,
      "outputs": [],
      "id": "It272ZqRVBdS"
    },
    {
      "cell_type": "markdown",
      "source": [
        "## Model"
      ],
      "metadata": {
        "papermill": {
          "duration": 0.010731,
          "end_time": "2024-09-11T14:05:52.461249",
          "exception": false,
          "start_time": "2024-09-11T14:05:52.450518",
          "status": "completed"
        },
        "tags": [],
        "id": "Flt03QKUVBdT"
      },
      "id": "Flt03QKUVBdT"
    },
    {
      "cell_type": "code",
      "source": [
        "model = DistilBertForSequenceClassification.from_pretrained('distilbert/distilbert-base-uncased-finetuned-sst-2-english', num_labels=2).to(device)"
      ],
      "metadata": {
        "execution": {
          "iopub.execute_input": "2024-09-11T14:05:52.484423Z",
          "iopub.status.busy": "2024-09-11T14:05:52.484103Z",
          "iopub.status.idle": "2024-09-11T14:05:55.262922Z",
          "shell.execute_reply": "2024-09-11T14:05:55.261843Z"
        },
        "papermill": {
          "duration": 2.793321,
          "end_time": "2024-09-11T14:05:55.265264",
          "exception": false,
          "start_time": "2024-09-11T14:05:52.471943",
          "status": "completed"
        },
        "tags": [],
        "colab": {
          "base_uri": "https://localhost:8080/",
          "height": 49,
          "referenced_widgets": [
            "3ac24d9f3b594a03b0a5b55fda660e14",
            "3a17dc67c26646b4af90b977506149df",
            "fb67c02548b045a38a1ca9e766e67726",
            "6e548ff33575482da76d13278828a75c",
            "bd4b526247dd47da803ec7796be1b600",
            "629c6cb65f004482b77535f75b2effd9",
            "0b323bd046934e6994f831239581d3c7",
            "4fbbf480a6e448f2a0dd502f1ccc6390",
            "9889e919ea144c549db42e1017829a41",
            "95e091e58ed44d939bfcc84df335dbea",
            "f6a3fefd08f84f1184e9b6c30d440be0"
          ]
        },
        "id": "JGkxRmeEVBdT",
        "outputId": "04276ba1-0acb-4251-c8f8-3be39736fe6f"
      },
      "execution_count": null,
      "outputs": [
        {
          "output_type": "display_data",
          "data": {
            "text/plain": [
              "model.safetensors:   0%|          | 0.00/268M [00:00<?, ?B/s]"
            ],
            "application/vnd.jupyter.widget-view+json": {
              "version_major": 2,
              "version_minor": 0,
              "model_id": "3ac24d9f3b594a03b0a5b55fda660e14"
            }
          },
          "metadata": {}
        }
      ],
      "id": "JGkxRmeEVBdT"
    },
    {
      "cell_type": "code",
      "source": [
        "# Define the evaluation metric\n",
        "\n",
        "def compute_metrics(pred):\n",
        "    labels = pred.label_ids\n",
        "    preds = pred.predictions.argmax(-1)\n",
        "    accuracy = (preds == labels).mean()\n",
        "    return {\"accuracy\": accuracy}"
      ],
      "metadata": {
        "execution": {
          "iopub.execute_input": "2024-09-11T14:05:55.289541Z",
          "iopub.status.busy": "2024-09-11T14:05:55.288755Z",
          "iopub.status.idle": "2024-09-11T14:05:55.293818Z",
          "shell.execute_reply": "2024-09-11T14:05:55.292917Z"
        },
        "papermill": {
          "duration": 0.018904,
          "end_time": "2024-09-11T14:05:55.295731",
          "exception": false,
          "start_time": "2024-09-11T14:05:55.276827",
          "status": "completed"
        },
        "tags": [],
        "id": "uABu__ZDVBdT"
      },
      "execution_count": null,
      "outputs": [],
      "id": "uABu__ZDVBdT"
    },
    {
      "cell_type": "markdown",
      "source": [
        "# Fine-Tuning the Model"
      ],
      "metadata": {
        "papermill": {
          "duration": 0.010637,
          "end_time": "2024-09-11T14:05:55.317614",
          "exception": false,
          "start_time": "2024-09-11T14:05:55.306977",
          "status": "completed"
        },
        "tags": [],
        "id": "UUDE6izqVBdT"
      },
      "id": "UUDE6izqVBdT"
    },
    {
      "cell_type": "code",
      "source": [
        "# Define training arguments\n",
        "\n",
        "training_args = TrainingArguments(\n",
        "    output_dir='./results',                     # Output directory for model checkpoints\n",
        "    num_train_epochs=2,                         # Number of training epochs\n",
        "    per_device_train_batch_size=16,             # Batch size per device (GPU/CPU)\n",
        "    per_device_eval_batch_size=16,              # Evaluation batch size\n",
        "    warmup_steps=100,                           # Number of warmup steps for learning rate scheduler\n",
        "    weight_decay=0.01,                          # Weight decay for regularization\n",
        "    logging_dir='./logs',                       # Directory for logging\n",
        "    logging_steps=10,                           # Interval for logging updates\n",
        "    evaluation_strategy='epoch',                # Evaluate at each epoch\n",
        "    report_to=\"none\",                           # Disable reporting to Hugging Face Hub\n",
        "    push_to_hub=False,                          # Do not push to Hugging Face Hub\n",
        "    fp16=True,                                  # Enable mixed precision\n",
        ")"
      ],
      "metadata": {
        "execution": {
          "iopub.execute_input": "2024-09-11T14:05:55.34068Z",
          "iopub.status.busy": "2024-09-11T14:05:55.339996Z",
          "iopub.status.idle": "2024-09-11T14:05:55.373599Z",
          "shell.execute_reply": "2024-09-11T14:05:55.372742Z"
        },
        "papermill": {
          "duration": 0.047236,
          "end_time": "2024-09-11T14:05:55.375704",
          "exception": false,
          "start_time": "2024-09-11T14:05:55.328468",
          "status": "completed"
        },
        "tags": [],
        "id": "3bx2W3piVBdU"
      },
      "execution_count": null,
      "outputs": [],
      "id": "3bx2W3piVBdU"
    },
    {
      "cell_type": "code",
      "source": [
        "# Initialize Trainer\n",
        "\n",
        "trainer = Trainer(\n",
        "    model=model,\n",
        "    args=training_args,\n",
        "    train_dataset=dataset['train'],\n",
        "    eval_dataset=dataset['validation'],\n",
        "    compute_metrics=compute_metrics\n",
        ")"
      ],
      "metadata": {
        "execution": {
          "iopub.execute_input": "2024-09-11T14:05:55.3992Z",
          "iopub.status.busy": "2024-09-11T14:05:55.398512Z",
          "iopub.status.idle": "2024-09-11T14:05:55.411931Z",
          "shell.execute_reply": "2024-09-11T14:05:55.410813Z"
        },
        "papermill": {
          "duration": 0.027136,
          "end_time": "2024-09-11T14:05:55.413919",
          "exception": false,
          "start_time": "2024-09-11T14:05:55.386783",
          "status": "completed"
        },
        "tags": [],
        "id": "VpXIvGmKVBdU"
      },
      "execution_count": null,
      "outputs": [],
      "id": "VpXIvGmKVBdU"
    },
    {
      "cell_type": "code",
      "source": [
        "# Fine-tune the model\n",
        "trainer.train()"
      ],
      "metadata": {
        "execution": {
          "iopub.execute_input": "2024-09-11T14:05:55.436277Z",
          "iopub.status.busy": "2024-09-11T14:05:55.436008Z",
          "iopub.status.idle": "2024-09-11T14:25:57.817289Z",
          "shell.execute_reply": "2024-09-11T14:25:57.816386Z"
        },
        "papermill": {
          "duration": 1202.394616,
          "end_time": "2024-09-11T14:25:57.819305",
          "exception": false,
          "start_time": "2024-09-11T14:05:55.424689",
          "status": "completed"
        },
        "tags": [],
        "colab": {
          "base_uri": "https://localhost:8080/",
          "height": 192
        },
        "id": "A_zSZlxSVBdU",
        "outputId": "62045ad0-2fa1-4c05-862d-8d161055b3eb"
      },
      "execution_count": null,
      "outputs": [
        {
          "output_type": "display_data",
          "data": {
            "text/plain": [
              "<IPython.core.display.HTML object>"
            ],
            "text/html": [
              "\n",
              "    <div>\n",
              "      \n",
              "      <progress value='5000' max='5000' style='width:300px; height:20px; vertical-align: middle;'></progress>\n",
              "      [5000/5000 29:25, Epoch 2/2]\n",
              "    </div>\n",
              "    <table border=\"1\" class=\"dataframe\">\n",
              "  <thead>\n",
              " <tr style=\"text-align: left;\">\n",
              "      <th>Epoch</th>\n",
              "      <th>Training Loss</th>\n",
              "      <th>Validation Loss</th>\n",
              "      <th>Accuracy</th>\n",
              "    </tr>\n",
              "  </thead>\n",
              "  <tbody>\n",
              "    <tr>\n",
              "      <td>1</td>\n",
              "      <td>0.240700</td>\n",
              "      <td>0.205633</td>\n",
              "      <td>0.927100</td>\n",
              "    </tr>\n",
              "    <tr>\n",
              "      <td>2</td>\n",
              "      <td>0.110900</td>\n",
              "      <td>0.219262</td>\n",
              "      <td>0.940400</td>\n",
              "    </tr>\n",
              "  </tbody>\n",
              "</table><p>"
            ]
          },
          "metadata": {}
        },
        {
          "output_type": "execute_result",
          "data": {
            "text/plain": [
              "TrainOutput(global_step=5000, training_loss=0.1730336150214076, metrics={'train_runtime': 1767.3491, 'train_samples_per_second': 45.266, 'train_steps_per_second': 2.829, 'total_flos': 1.059739189248e+16, 'train_loss': 0.1730336150214076, 'epoch': 2.0})"
            ]
          },
          "metadata": {},
          "execution_count": 25
        }
      ],
      "id": "A_zSZlxSVBdU"
    },
    {
      "cell_type": "code",
      "source": [
        "# Evaluate the model\n",
        "eval_results = trainer.evaluate()\n",
        "print(eval_results)"
      ],
      "metadata": {
        "execution": {
          "iopub.execute_input": "2024-09-11T14:25:57.843061Z",
          "iopub.status.busy": "2024-09-11T14:25:57.842782Z",
          "iopub.status.idle": "2024-09-11T14:27:46.172783Z",
          "shell.execute_reply": "2024-09-11T14:27:46.171771Z"
        },
        "papermill": {
          "duration": 108.344112,
          "end_time": "2024-09-11T14:27:46.174913",
          "exception": false,
          "start_time": "2024-09-11T14:25:57.830801",
          "status": "completed"
        },
        "tags": [],
        "colab": {
          "base_uri": "https://localhost:8080/",
          "height": 75
        },
        "id": "xO5qAlTvVBdU",
        "outputId": "bb7b07b7-958d-4a62-c2f4-49b2b1723dd5"
      },
      "execution_count": null,
      "outputs": [
        {
          "output_type": "display_data",
          "data": {
            "text/plain": [
              "<IPython.core.display.HTML object>"
            ],
            "text/html": [
              "\n",
              "    <div>\n",
              "      \n",
              "      <progress value='625' max='625' style='width:300px; height:20px; vertical-align: middle;'></progress>\n",
              "      [625/625 01:00]\n",
              "    </div>\n",
              "    "
            ]
          },
          "metadata": {}
        },
        {
          "output_type": "stream",
          "name": "stdout",
          "text": [
            "{'eval_loss': 0.219262033700943, 'eval_accuracy': 0.9404, 'eval_runtime': 60.1919, 'eval_samples_per_second': 166.135, 'eval_steps_per_second': 10.383, 'epoch': 2.0}\n"
          ]
        }
      ],
      "id": "xO5qAlTvVBdU"
    },
    {
      "cell_type": "markdown",
      "source": [
        "# Conclusion"
      ],
      "metadata": {
        "papermill": {
          "duration": 0.011174,
          "end_time": "2024-09-11T14:27:46.197906",
          "exception": false,
          "start_time": "2024-09-11T14:27:46.186732",
          "status": "completed"
        },
        "tags": [],
        "id": "VIPDFMS2VBdV"
      },
      "id": "VIPDFMS2VBdV"
    },
    {
      "cell_type": "markdown",
      "source": [
        "## Our experiment with **DistilBERT** on IMDb reviews achieved promising results, reaching an accuracy of ***94%***. This shows how powerful transformer-based models can be in understanding and analyzing text. DistilBERT, inspired by the attention mechanism introduced in the paper *\"Attention Is All You Need,\"* effectively captures the meaning and context of words, making it highly accurate for sentiment analysis.\n",
        "\n",
        "Using a **GPU** for fine-tuning, the model performed exceptionally well after just one epoch of training. This demonstrates the effectiveness of transfer learning, where pre-trained models like DistilBERT can be adapted quickly to new tasks with great results. Further improvements could be made by adjusting the number of epochs, tuning hyperparameters, or increasing batch size.\n",
        "\n",
        "In summary, transformer models like DistilBERT offer a powerful and efficient approach to sentiment analysis, providing a strong foundation for future work."
      ],
      "metadata": {
        "papermill": {
          "duration": 0.011092,
          "end_time": "2024-09-11T14:27:46.220043",
          "exception": false,
          "start_time": "2024-09-11T14:27:46.208951",
          "status": "completed"
        },
        "tags": [],
        "id": "7l_t5VC_VBdV"
      },
      "id": "7l_t5VC_VBdV"
    }
  ]
}